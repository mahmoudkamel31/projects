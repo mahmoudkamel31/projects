{
 "cells": [
  {
   "cell_type": "markdown",
   "id": "3453db45",
   "metadata": {},
   "source": [
    "# *Data Anlaysis*"
   ]
  },
  {
   "cell_type": "markdown",
   "id": "eaa44584",
   "metadata": {},
   "source": [
    "## Today's Outline\n",
    "- Full Data Analysis Case-study\n",
    "    - Car Price Prediction"
   ]
  },
  {
   "cell_type": "markdown",
   "id": "79d00480",
   "metadata": {},
   "source": [
    "## Case-study: Car Price Prediction ML & Streamlit"
   ]
  },
  {
   "cell_type": "markdown",
   "id": "6f4b4cff",
   "metadata": {},
   "source": [
    "This dataset can be found on Kaggle:\n",
    "https://www.kaggle.com/datasets/deepcontractor/car-price-prediction-challenge"
   ]
  },
  {
   "cell_type": "markdown",
   "id": "e9baba4d",
   "metadata": {},
   "source": [
    "## Import Libraries"
   ]
  },
  {
   "cell_type": "code",
   "execution_count": 2,
   "id": "508dc392",
   "metadata": {},
   "outputs": [],
   "source": [
    "import pandas as pd\n",
    "import numpy as np\n",
    "import matplotlib.pyplot as plt \n",
    "import seaborn as sns\n",
    "import warnings\n",
    "warnings.filterwarnings(\"ignore\")\n",
    "import datetime\n",
    "from sklearn.preprocessing import LabelEncoder , StandardScaler\n",
    "from sklearn.model_selection import train_test_split , RandomizedSearchCV\n",
    "from sklearn.linear_model import LogisticRegression\n",
    "from sklearn.metrics import classification_report, accuracy_score\n",
    "from sklearn.metrics import confusion_matrix , ConfusionMatrixDisplay\n",
    "from sklearn.ensemble import RandomForestClassifier , GradientBoostingClassifier\n",
    "from sklearn.naive_bayes import GaussianNB\n",
    "from scipy.stats import randint\n",
    "from sklearn.naive_bayes import GaussianNB \n",
    "from sklearn.tree import DecisionTreeClassifier\n",
    "from sklearn.neighbors import KNeighborsClassifier\n",
    "from sklearn.model_selection import cross_val_score\n",
    "from xgboost import XGBClassifier\n",
    "from sklearn.svm import SVC"
   ]
  },
  {
   "cell_type": "markdown",
   "id": "0700511e",
   "metadata": {},
   "source": [
    "## Data Pre-proccesing and Exploring Data"
   ]
  },
  {
   "cell_type": "code",
   "execution_count": 3,
   "id": "76ccf191",
   "metadata": {},
   "outputs": [
    {
     "data": {
      "text/html": [
       "<div>\n",
       "<style scoped>\n",
       "    .dataframe tbody tr th:only-of-type {\n",
       "        vertical-align: middle;\n",
       "    }\n",
       "\n",
       "    .dataframe tbody tr th {\n",
       "        vertical-align: top;\n",
       "    }\n",
       "\n",
       "    .dataframe thead th {\n",
       "        text-align: right;\n",
       "    }\n",
       "</style>\n",
       "<table border=\"1\" class=\"dataframe\">\n",
       "  <thead>\n",
       "    <tr style=\"text-align: right;\">\n",
       "      <th></th>\n",
       "      <th>ID</th>\n",
       "      <th>Price</th>\n",
       "      <th>Levy</th>\n",
       "      <th>Manufacturer</th>\n",
       "      <th>Model</th>\n",
       "      <th>Prod. year</th>\n",
       "      <th>Category</th>\n",
       "      <th>Leather interior</th>\n",
       "      <th>Fuel type</th>\n",
       "      <th>Engine volume</th>\n",
       "      <th>Mileage</th>\n",
       "      <th>Cylinders</th>\n",
       "      <th>Gear box type</th>\n",
       "      <th>Drive wheels</th>\n",
       "      <th>Doors</th>\n",
       "      <th>Wheel</th>\n",
       "      <th>Color</th>\n",
       "      <th>Airbags</th>\n",
       "    </tr>\n",
       "  </thead>\n",
       "  <tbody>\n",
       "    <tr>\n",
       "      <th>0</th>\n",
       "      <td>45654403</td>\n",
       "      <td>13328</td>\n",
       "      <td>1399</td>\n",
       "      <td>LEXUS</td>\n",
       "      <td>RX 450</td>\n",
       "      <td>2010</td>\n",
       "      <td>Jeep</td>\n",
       "      <td>Yes</td>\n",
       "      <td>Hybrid</td>\n",
       "      <td>3.5</td>\n",
       "      <td>186005 km</td>\n",
       "      <td>6.0</td>\n",
       "      <td>Automatic</td>\n",
       "      <td>4x4</td>\n",
       "      <td>04-May</td>\n",
       "      <td>Left wheel</td>\n",
       "      <td>Silver</td>\n",
       "      <td>12</td>\n",
       "    </tr>\n",
       "    <tr>\n",
       "      <th>1</th>\n",
       "      <td>44731507</td>\n",
       "      <td>16621</td>\n",
       "      <td>1018</td>\n",
       "      <td>CHEVROLET</td>\n",
       "      <td>Equinox</td>\n",
       "      <td>2011</td>\n",
       "      <td>Jeep</td>\n",
       "      <td>No</td>\n",
       "      <td>Petrol</td>\n",
       "      <td>3</td>\n",
       "      <td>192000 km</td>\n",
       "      <td>6.0</td>\n",
       "      <td>Tiptronic</td>\n",
       "      <td>4x4</td>\n",
       "      <td>04-May</td>\n",
       "      <td>Left wheel</td>\n",
       "      <td>Black</td>\n",
       "      <td>8</td>\n",
       "    </tr>\n",
       "    <tr>\n",
       "      <th>2</th>\n",
       "      <td>45774419</td>\n",
       "      <td>8467</td>\n",
       "      <td>-</td>\n",
       "      <td>HONDA</td>\n",
       "      <td>FIT</td>\n",
       "      <td>2006</td>\n",
       "      <td>Hatchback</td>\n",
       "      <td>No</td>\n",
       "      <td>Petrol</td>\n",
       "      <td>1.3</td>\n",
       "      <td>200000 km</td>\n",
       "      <td>4.0</td>\n",
       "      <td>Variator</td>\n",
       "      <td>Front</td>\n",
       "      <td>04-May</td>\n",
       "      <td>Right-hand drive</td>\n",
       "      <td>Black</td>\n",
       "      <td>2</td>\n",
       "    </tr>\n",
       "    <tr>\n",
       "      <th>3</th>\n",
       "      <td>45769185</td>\n",
       "      <td>3607</td>\n",
       "      <td>862</td>\n",
       "      <td>FORD</td>\n",
       "      <td>Escape</td>\n",
       "      <td>2011</td>\n",
       "      <td>Jeep</td>\n",
       "      <td>Yes</td>\n",
       "      <td>Hybrid</td>\n",
       "      <td>2.5</td>\n",
       "      <td>168966 km</td>\n",
       "      <td>4.0</td>\n",
       "      <td>Automatic</td>\n",
       "      <td>4x4</td>\n",
       "      <td>04-May</td>\n",
       "      <td>Left wheel</td>\n",
       "      <td>White</td>\n",
       "      <td>0</td>\n",
       "    </tr>\n",
       "    <tr>\n",
       "      <th>4</th>\n",
       "      <td>45809263</td>\n",
       "      <td>11726</td>\n",
       "      <td>446</td>\n",
       "      <td>HONDA</td>\n",
       "      <td>FIT</td>\n",
       "      <td>2014</td>\n",
       "      <td>Hatchback</td>\n",
       "      <td>Yes</td>\n",
       "      <td>Petrol</td>\n",
       "      <td>1.3</td>\n",
       "      <td>91901 km</td>\n",
       "      <td>4.0</td>\n",
       "      <td>Automatic</td>\n",
       "      <td>Front</td>\n",
       "      <td>04-May</td>\n",
       "      <td>Left wheel</td>\n",
       "      <td>Silver</td>\n",
       "      <td>4</td>\n",
       "    </tr>\n",
       "    <tr>\n",
       "      <th>...</th>\n",
       "      <td>...</td>\n",
       "      <td>...</td>\n",
       "      <td>...</td>\n",
       "      <td>...</td>\n",
       "      <td>...</td>\n",
       "      <td>...</td>\n",
       "      <td>...</td>\n",
       "      <td>...</td>\n",
       "      <td>...</td>\n",
       "      <td>...</td>\n",
       "      <td>...</td>\n",
       "      <td>...</td>\n",
       "      <td>...</td>\n",
       "      <td>...</td>\n",
       "      <td>...</td>\n",
       "      <td>...</td>\n",
       "      <td>...</td>\n",
       "      <td>...</td>\n",
       "    </tr>\n",
       "    <tr>\n",
       "      <th>19232</th>\n",
       "      <td>45798355</td>\n",
       "      <td>8467</td>\n",
       "      <td>-</td>\n",
       "      <td>MERCEDES-BENZ</td>\n",
       "      <td>CLK 200</td>\n",
       "      <td>1999</td>\n",
       "      <td>Coupe</td>\n",
       "      <td>Yes</td>\n",
       "      <td>CNG</td>\n",
       "      <td>2.0 Turbo</td>\n",
       "      <td>300000 km</td>\n",
       "      <td>4.0</td>\n",
       "      <td>Manual</td>\n",
       "      <td>Rear</td>\n",
       "      <td>02-Mar</td>\n",
       "      <td>Left wheel</td>\n",
       "      <td>Silver</td>\n",
       "      <td>5</td>\n",
       "    </tr>\n",
       "    <tr>\n",
       "      <th>19233</th>\n",
       "      <td>45778856</td>\n",
       "      <td>15681</td>\n",
       "      <td>831</td>\n",
       "      <td>HYUNDAI</td>\n",
       "      <td>Sonata</td>\n",
       "      <td>2011</td>\n",
       "      <td>Sedan</td>\n",
       "      <td>Yes</td>\n",
       "      <td>Petrol</td>\n",
       "      <td>2.4</td>\n",
       "      <td>161600 km</td>\n",
       "      <td>4.0</td>\n",
       "      <td>Tiptronic</td>\n",
       "      <td>Front</td>\n",
       "      <td>04-May</td>\n",
       "      <td>Left wheel</td>\n",
       "      <td>Red</td>\n",
       "      <td>8</td>\n",
       "    </tr>\n",
       "    <tr>\n",
       "      <th>19234</th>\n",
       "      <td>45804997</td>\n",
       "      <td>26108</td>\n",
       "      <td>836</td>\n",
       "      <td>HYUNDAI</td>\n",
       "      <td>Tucson</td>\n",
       "      <td>2010</td>\n",
       "      <td>Jeep</td>\n",
       "      <td>Yes</td>\n",
       "      <td>Diesel</td>\n",
       "      <td>2</td>\n",
       "      <td>116365 km</td>\n",
       "      <td>4.0</td>\n",
       "      <td>Automatic</td>\n",
       "      <td>Front</td>\n",
       "      <td>04-May</td>\n",
       "      <td>Left wheel</td>\n",
       "      <td>Grey</td>\n",
       "      <td>4</td>\n",
       "    </tr>\n",
       "    <tr>\n",
       "      <th>19235</th>\n",
       "      <td>45793526</td>\n",
       "      <td>5331</td>\n",
       "      <td>1288</td>\n",
       "      <td>CHEVROLET</td>\n",
       "      <td>Captiva</td>\n",
       "      <td>2007</td>\n",
       "      <td>Jeep</td>\n",
       "      <td>Yes</td>\n",
       "      <td>Diesel</td>\n",
       "      <td>2</td>\n",
       "      <td>51258 km</td>\n",
       "      <td>4.0</td>\n",
       "      <td>Automatic</td>\n",
       "      <td>Front</td>\n",
       "      <td>04-May</td>\n",
       "      <td>Left wheel</td>\n",
       "      <td>Black</td>\n",
       "      <td>4</td>\n",
       "    </tr>\n",
       "    <tr>\n",
       "      <th>19236</th>\n",
       "      <td>45813273</td>\n",
       "      <td>470</td>\n",
       "      <td>753</td>\n",
       "      <td>HYUNDAI</td>\n",
       "      <td>Sonata</td>\n",
       "      <td>2012</td>\n",
       "      <td>Sedan</td>\n",
       "      <td>Yes</td>\n",
       "      <td>Hybrid</td>\n",
       "      <td>2.4</td>\n",
       "      <td>186923 km</td>\n",
       "      <td>4.0</td>\n",
       "      <td>Automatic</td>\n",
       "      <td>Front</td>\n",
       "      <td>04-May</td>\n",
       "      <td>Left wheel</td>\n",
       "      <td>White</td>\n",
       "      <td>12</td>\n",
       "    </tr>\n",
       "  </tbody>\n",
       "</table>\n",
       "<p>19237 rows × 18 columns</p>\n",
       "</div>"
      ],
      "text/plain": [
       "             ID  Price  Levy   Manufacturer    Model  Prod. year   Category  \\\n",
       "0      45654403  13328  1399          LEXUS   RX 450        2010       Jeep   \n",
       "1      44731507  16621  1018      CHEVROLET  Equinox        2011       Jeep   \n",
       "2      45774419   8467     -          HONDA      FIT        2006  Hatchback   \n",
       "3      45769185   3607   862           FORD   Escape        2011       Jeep   \n",
       "4      45809263  11726   446          HONDA      FIT        2014  Hatchback   \n",
       "...         ...    ...   ...            ...      ...         ...        ...   \n",
       "19232  45798355   8467     -  MERCEDES-BENZ  CLK 200        1999      Coupe   \n",
       "19233  45778856  15681   831        HYUNDAI   Sonata        2011      Sedan   \n",
       "19234  45804997  26108   836        HYUNDAI   Tucson        2010       Jeep   \n",
       "19235  45793526   5331  1288      CHEVROLET  Captiva        2007       Jeep   \n",
       "19236  45813273    470   753        HYUNDAI   Sonata        2012      Sedan   \n",
       "\n",
       "      Leather interior Fuel type Engine volume    Mileage  Cylinders  \\\n",
       "0                  Yes    Hybrid           3.5  186005 km        6.0   \n",
       "1                   No    Petrol             3  192000 km        6.0   \n",
       "2                   No    Petrol           1.3  200000 km        4.0   \n",
       "3                  Yes    Hybrid           2.5  168966 km        4.0   \n",
       "4                  Yes    Petrol           1.3   91901 km        4.0   \n",
       "...                ...       ...           ...        ...        ...   \n",
       "19232              Yes       CNG     2.0 Turbo  300000 km        4.0   \n",
       "19233              Yes    Petrol           2.4  161600 km        4.0   \n",
       "19234              Yes    Diesel             2  116365 km        4.0   \n",
       "19235              Yes    Diesel             2   51258 km        4.0   \n",
       "19236              Yes    Hybrid           2.4  186923 km        4.0   \n",
       "\n",
       "      Gear box type Drive wheels   Doors             Wheel   Color  Airbags  \n",
       "0         Automatic          4x4  04-May        Left wheel  Silver       12  \n",
       "1         Tiptronic          4x4  04-May        Left wheel   Black        8  \n",
       "2          Variator        Front  04-May  Right-hand drive   Black        2  \n",
       "3         Automatic          4x4  04-May        Left wheel   White        0  \n",
       "4         Automatic        Front  04-May        Left wheel  Silver        4  \n",
       "...             ...          ...     ...               ...     ...      ...  \n",
       "19232        Manual         Rear  02-Mar        Left wheel  Silver        5  \n",
       "19233     Tiptronic        Front  04-May        Left wheel     Red        8  \n",
       "19234     Automatic        Front  04-May        Left wheel    Grey        4  \n",
       "19235     Automatic        Front  04-May        Left wheel   Black        4  \n",
       "19236     Automatic        Front  04-May        Left wheel   White       12  \n",
       "\n",
       "[19237 rows x 18 columns]"
      ]
     },
     "execution_count": 3,
     "metadata": {},
     "output_type": "execute_result"
    }
   ],
   "source": [
    "data = pd.read_csv('car_price_prediction.csv')\n",
    "data"
   ]
  },
  {
   "cell_type": "code",
   "execution_count": 4,
   "id": "55c4b065",
   "metadata": {},
   "outputs": [],
   "source": [
    "data['Engine volume']=data['Engine volume'].str.replace(\".\",\"\").str.replace('Turbo', '')\n",
    "data['Engine volume']=data['Engine volume'].astype(\"float64\")"
   ]
  },
  {
   "cell_type": "code",
   "execution_count": 5,
   "id": "4670edf6",
   "metadata": {},
   "outputs": [],
   "source": [
    "data['Levy']=data['Levy'].replace(\"-\",\"0\")\n",
    "data['Levy']=data['Levy'].astype(\"int64\")"
   ]
  },
  {
   "cell_type": "code",
   "execution_count": 6,
   "id": "af7c03f4",
   "metadata": {},
   "outputs": [
    {
     "data": {
      "text/html": [
       "<div>\n",
       "<style scoped>\n",
       "    .dataframe tbody tr th:only-of-type {\n",
       "        vertical-align: middle;\n",
       "    }\n",
       "\n",
       "    .dataframe tbody tr th {\n",
       "        vertical-align: top;\n",
       "    }\n",
       "\n",
       "    .dataframe thead th {\n",
       "        text-align: right;\n",
       "    }\n",
       "</style>\n",
       "<table border=\"1\" class=\"dataframe\">\n",
       "  <thead>\n",
       "    <tr style=\"text-align: right;\">\n",
       "      <th></th>\n",
       "      <th>ID</th>\n",
       "      <th>Price</th>\n",
       "      <th>Levy</th>\n",
       "      <th>Manufacturer</th>\n",
       "      <th>Model</th>\n",
       "      <th>Prod. year</th>\n",
       "      <th>Category</th>\n",
       "      <th>Leather interior</th>\n",
       "      <th>Fuel type</th>\n",
       "      <th>Engine volume</th>\n",
       "      <th>Mileage</th>\n",
       "      <th>Cylinders</th>\n",
       "      <th>Gear box type</th>\n",
       "      <th>Drive wheels</th>\n",
       "      <th>Doors</th>\n",
       "      <th>Wheel</th>\n",
       "      <th>Color</th>\n",
       "      <th>Airbags</th>\n",
       "    </tr>\n",
       "  </thead>\n",
       "  <tbody>\n",
       "    <tr>\n",
       "      <th>0</th>\n",
       "      <td>45654403</td>\n",
       "      <td>13328</td>\n",
       "      <td>1399</td>\n",
       "      <td>LEXUS</td>\n",
       "      <td>RX 450</td>\n",
       "      <td>2010</td>\n",
       "      <td>Jeep</td>\n",
       "      <td>Yes</td>\n",
       "      <td>Hybrid</td>\n",
       "      <td>35.0</td>\n",
       "      <td>186005 km</td>\n",
       "      <td>6.0</td>\n",
       "      <td>Automatic</td>\n",
       "      <td>4x4</td>\n",
       "      <td>04-May</td>\n",
       "      <td>Left wheel</td>\n",
       "      <td>Silver</td>\n",
       "      <td>12</td>\n",
       "    </tr>\n",
       "    <tr>\n",
       "      <th>1</th>\n",
       "      <td>44731507</td>\n",
       "      <td>16621</td>\n",
       "      <td>1018</td>\n",
       "      <td>CHEVROLET</td>\n",
       "      <td>Equinox</td>\n",
       "      <td>2011</td>\n",
       "      <td>Jeep</td>\n",
       "      <td>No</td>\n",
       "      <td>Petrol</td>\n",
       "      <td>3.0</td>\n",
       "      <td>192000 km</td>\n",
       "      <td>6.0</td>\n",
       "      <td>Tiptronic</td>\n",
       "      <td>4x4</td>\n",
       "      <td>04-May</td>\n",
       "      <td>Left wheel</td>\n",
       "      <td>Black</td>\n",
       "      <td>8</td>\n",
       "    </tr>\n",
       "    <tr>\n",
       "      <th>2</th>\n",
       "      <td>45774419</td>\n",
       "      <td>8467</td>\n",
       "      <td>0</td>\n",
       "      <td>HONDA</td>\n",
       "      <td>FIT</td>\n",
       "      <td>2006</td>\n",
       "      <td>Hatchback</td>\n",
       "      <td>No</td>\n",
       "      <td>Petrol</td>\n",
       "      <td>13.0</td>\n",
       "      <td>200000 km</td>\n",
       "      <td>4.0</td>\n",
       "      <td>Variator</td>\n",
       "      <td>Front</td>\n",
       "      <td>04-May</td>\n",
       "      <td>Right-hand drive</td>\n",
       "      <td>Black</td>\n",
       "      <td>2</td>\n",
       "    </tr>\n",
       "    <tr>\n",
       "      <th>3</th>\n",
       "      <td>45769185</td>\n",
       "      <td>3607</td>\n",
       "      <td>862</td>\n",
       "      <td>FORD</td>\n",
       "      <td>Escape</td>\n",
       "      <td>2011</td>\n",
       "      <td>Jeep</td>\n",
       "      <td>Yes</td>\n",
       "      <td>Hybrid</td>\n",
       "      <td>25.0</td>\n",
       "      <td>168966 km</td>\n",
       "      <td>4.0</td>\n",
       "      <td>Automatic</td>\n",
       "      <td>4x4</td>\n",
       "      <td>04-May</td>\n",
       "      <td>Left wheel</td>\n",
       "      <td>White</td>\n",
       "      <td>0</td>\n",
       "    </tr>\n",
       "    <tr>\n",
       "      <th>4</th>\n",
       "      <td>45809263</td>\n",
       "      <td>11726</td>\n",
       "      <td>446</td>\n",
       "      <td>HONDA</td>\n",
       "      <td>FIT</td>\n",
       "      <td>2014</td>\n",
       "      <td>Hatchback</td>\n",
       "      <td>Yes</td>\n",
       "      <td>Petrol</td>\n",
       "      <td>13.0</td>\n",
       "      <td>91901 km</td>\n",
       "      <td>4.0</td>\n",
       "      <td>Automatic</td>\n",
       "      <td>Front</td>\n",
       "      <td>04-May</td>\n",
       "      <td>Left wheel</td>\n",
       "      <td>Silver</td>\n",
       "      <td>4</td>\n",
       "    </tr>\n",
       "    <tr>\n",
       "      <th>...</th>\n",
       "      <td>...</td>\n",
       "      <td>...</td>\n",
       "      <td>...</td>\n",
       "      <td>...</td>\n",
       "      <td>...</td>\n",
       "      <td>...</td>\n",
       "      <td>...</td>\n",
       "      <td>...</td>\n",
       "      <td>...</td>\n",
       "      <td>...</td>\n",
       "      <td>...</td>\n",
       "      <td>...</td>\n",
       "      <td>...</td>\n",
       "      <td>...</td>\n",
       "      <td>...</td>\n",
       "      <td>...</td>\n",
       "      <td>...</td>\n",
       "      <td>...</td>\n",
       "    </tr>\n",
       "    <tr>\n",
       "      <th>19232</th>\n",
       "      <td>45798355</td>\n",
       "      <td>8467</td>\n",
       "      <td>0</td>\n",
       "      <td>MERCEDES-BENZ</td>\n",
       "      <td>CLK 200</td>\n",
       "      <td>1999</td>\n",
       "      <td>Coupe</td>\n",
       "      <td>Yes</td>\n",
       "      <td>CNG</td>\n",
       "      <td>20.0</td>\n",
       "      <td>300000 km</td>\n",
       "      <td>4.0</td>\n",
       "      <td>Manual</td>\n",
       "      <td>Rear</td>\n",
       "      <td>02-Mar</td>\n",
       "      <td>Left wheel</td>\n",
       "      <td>Silver</td>\n",
       "      <td>5</td>\n",
       "    </tr>\n",
       "    <tr>\n",
       "      <th>19233</th>\n",
       "      <td>45778856</td>\n",
       "      <td>15681</td>\n",
       "      <td>831</td>\n",
       "      <td>HYUNDAI</td>\n",
       "      <td>Sonata</td>\n",
       "      <td>2011</td>\n",
       "      <td>Sedan</td>\n",
       "      <td>Yes</td>\n",
       "      <td>Petrol</td>\n",
       "      <td>24.0</td>\n",
       "      <td>161600 km</td>\n",
       "      <td>4.0</td>\n",
       "      <td>Tiptronic</td>\n",
       "      <td>Front</td>\n",
       "      <td>04-May</td>\n",
       "      <td>Left wheel</td>\n",
       "      <td>Red</td>\n",
       "      <td>8</td>\n",
       "    </tr>\n",
       "    <tr>\n",
       "      <th>19234</th>\n",
       "      <td>45804997</td>\n",
       "      <td>26108</td>\n",
       "      <td>836</td>\n",
       "      <td>HYUNDAI</td>\n",
       "      <td>Tucson</td>\n",
       "      <td>2010</td>\n",
       "      <td>Jeep</td>\n",
       "      <td>Yes</td>\n",
       "      <td>Diesel</td>\n",
       "      <td>2.0</td>\n",
       "      <td>116365 km</td>\n",
       "      <td>4.0</td>\n",
       "      <td>Automatic</td>\n",
       "      <td>Front</td>\n",
       "      <td>04-May</td>\n",
       "      <td>Left wheel</td>\n",
       "      <td>Grey</td>\n",
       "      <td>4</td>\n",
       "    </tr>\n",
       "    <tr>\n",
       "      <th>19235</th>\n",
       "      <td>45793526</td>\n",
       "      <td>5331</td>\n",
       "      <td>1288</td>\n",
       "      <td>CHEVROLET</td>\n",
       "      <td>Captiva</td>\n",
       "      <td>2007</td>\n",
       "      <td>Jeep</td>\n",
       "      <td>Yes</td>\n",
       "      <td>Diesel</td>\n",
       "      <td>2.0</td>\n",
       "      <td>51258 km</td>\n",
       "      <td>4.0</td>\n",
       "      <td>Automatic</td>\n",
       "      <td>Front</td>\n",
       "      <td>04-May</td>\n",
       "      <td>Left wheel</td>\n",
       "      <td>Black</td>\n",
       "      <td>4</td>\n",
       "    </tr>\n",
       "    <tr>\n",
       "      <th>19236</th>\n",
       "      <td>45813273</td>\n",
       "      <td>470</td>\n",
       "      <td>753</td>\n",
       "      <td>HYUNDAI</td>\n",
       "      <td>Sonata</td>\n",
       "      <td>2012</td>\n",
       "      <td>Sedan</td>\n",
       "      <td>Yes</td>\n",
       "      <td>Hybrid</td>\n",
       "      <td>24.0</td>\n",
       "      <td>186923 km</td>\n",
       "      <td>4.0</td>\n",
       "      <td>Automatic</td>\n",
       "      <td>Front</td>\n",
       "      <td>04-May</td>\n",
       "      <td>Left wheel</td>\n",
       "      <td>White</td>\n",
       "      <td>12</td>\n",
       "    </tr>\n",
       "  </tbody>\n",
       "</table>\n",
       "<p>19237 rows × 18 columns</p>\n",
       "</div>"
      ],
      "text/plain": [
       "             ID  Price  Levy   Manufacturer    Model  Prod. year   Category  \\\n",
       "0      45654403  13328  1399          LEXUS   RX 450        2010       Jeep   \n",
       "1      44731507  16621  1018      CHEVROLET  Equinox        2011       Jeep   \n",
       "2      45774419   8467     0          HONDA      FIT        2006  Hatchback   \n",
       "3      45769185   3607   862           FORD   Escape        2011       Jeep   \n",
       "4      45809263  11726   446          HONDA      FIT        2014  Hatchback   \n",
       "...         ...    ...   ...            ...      ...         ...        ...   \n",
       "19232  45798355   8467     0  MERCEDES-BENZ  CLK 200        1999      Coupe   \n",
       "19233  45778856  15681   831        HYUNDAI   Sonata        2011      Sedan   \n",
       "19234  45804997  26108   836        HYUNDAI   Tucson        2010       Jeep   \n",
       "19235  45793526   5331  1288      CHEVROLET  Captiva        2007       Jeep   \n",
       "19236  45813273    470   753        HYUNDAI   Sonata        2012      Sedan   \n",
       "\n",
       "      Leather interior Fuel type  Engine volume    Mileage  Cylinders  \\\n",
       "0                  Yes    Hybrid           35.0  186005 km        6.0   \n",
       "1                   No    Petrol            3.0  192000 km        6.0   \n",
       "2                   No    Petrol           13.0  200000 km        4.0   \n",
       "3                  Yes    Hybrid           25.0  168966 km        4.0   \n",
       "4                  Yes    Petrol           13.0   91901 km        4.0   \n",
       "...                ...       ...            ...        ...        ...   \n",
       "19232              Yes       CNG           20.0  300000 km        4.0   \n",
       "19233              Yes    Petrol           24.0  161600 km        4.0   \n",
       "19234              Yes    Diesel            2.0  116365 km        4.0   \n",
       "19235              Yes    Diesel            2.0   51258 km        4.0   \n",
       "19236              Yes    Hybrid           24.0  186923 km        4.0   \n",
       "\n",
       "      Gear box type Drive wheels   Doors             Wheel   Color  Airbags  \n",
       "0         Automatic          4x4  04-May        Left wheel  Silver       12  \n",
       "1         Tiptronic          4x4  04-May        Left wheel   Black        8  \n",
       "2          Variator        Front  04-May  Right-hand drive   Black        2  \n",
       "3         Automatic          4x4  04-May        Left wheel   White        0  \n",
       "4         Automatic        Front  04-May        Left wheel  Silver        4  \n",
       "...             ...          ...     ...               ...     ...      ...  \n",
       "19232        Manual         Rear  02-Mar        Left wheel  Silver        5  \n",
       "19233     Tiptronic        Front  04-May        Left wheel     Red        8  \n",
       "19234     Automatic        Front  04-May        Left wheel    Grey        4  \n",
       "19235     Automatic        Front  04-May        Left wheel   Black        4  \n",
       "19236     Automatic        Front  04-May        Left wheel   White       12  \n",
       "\n",
       "[19237 rows x 18 columns]"
      ]
     },
     "execution_count": 6,
     "metadata": {},
     "output_type": "execute_result"
    }
   ],
   "source": [
    "data"
   ]
  },
  {
   "cell_type": "code",
   "execution_count": 7,
   "id": "0d40a254",
   "metadata": {},
   "outputs": [],
   "source": [
    "data['Mileage']=data['Mileage'].str.replace(\"km\",\"\")\n",
    "data['Mileage']=data['Mileage'].astype(\"int64\")"
   ]
  },
  {
   "cell_type": "code",
   "execution_count": 8,
   "id": "fcc54db8",
   "metadata": {},
   "outputs": [],
   "source": [
    "time =dtime = datetime.datetime.now()\n",
    "data['Age']=time.year-data['Prod. year']"
   ]
  },
  {
   "cell_type": "code",
   "execution_count": 9,
   "id": "2c547ce6",
   "metadata": {},
   "outputs": [],
   "source": [
    "data.drop(['ID', 'Doors', 'Prod. year'], axis=1 , inplace=True)"
   ]
  },
  {
   "cell_type": "code",
   "execution_count": 10,
   "id": "324d0763",
   "metadata": {},
   "outputs": [
    {
     "data": {
      "text/plain": [
       "Price               0\n",
       "Levy                0\n",
       "Manufacturer        0\n",
       "Model               0\n",
       "Category            0\n",
       "Leather interior    0\n",
       "Fuel type           0\n",
       "Engine volume       0\n",
       "Mileage             0\n",
       "Cylinders           0\n",
       "Gear box type       0\n",
       "Drive wheels        0\n",
       "Wheel               0\n",
       "Color               0\n",
       "Airbags             0\n",
       "Age                 0\n",
       "dtype: int64"
      ]
     },
     "execution_count": 10,
     "metadata": {},
     "output_type": "execute_result"
    }
   ],
   "source": [
    "data.isna().sum()"
   ]
  },
  {
   "cell_type": "code",
   "execution_count": 11,
   "id": "47b1d828",
   "metadata": {},
   "outputs": [],
   "source": [
    "data.drop_duplicates(inplace=True)"
   ]
  },
  {
   "cell_type": "code",
   "execution_count": 12,
   "id": "221ea149",
   "metadata": {},
   "outputs": [
    {
     "data": {
      "text/plain": [
       "0"
      ]
     },
     "execution_count": 12,
     "metadata": {},
     "output_type": "execute_result"
    }
   ],
   "source": [
    "data.duplicated().sum()"
   ]
  },
  {
   "cell_type": "code",
   "execution_count": 13,
   "id": "909d1f16",
   "metadata": {},
   "outputs": [],
   "source": [
    "data.reset_index(inplace=True)\n",
    "if 'index' in data.columns :\n",
    "    data.drop (['index'],axis=1,inplace=True)"
   ]
  },
  {
   "cell_type": "code",
   "execution_count": 14,
   "id": "f551a133",
   "metadata": {},
   "outputs": [
    {
     "name": "stdout",
     "output_type": "stream",
     "text": [
      "<class 'pandas.core.frame.DataFrame'>\n",
      "RangeIndex: 15725 entries, 0 to 15724\n",
      "Data columns (total 16 columns):\n",
      " #   Column            Non-Null Count  Dtype  \n",
      "---  ------            --------------  -----  \n",
      " 0   Price             15725 non-null  int64  \n",
      " 1   Levy              15725 non-null  int64  \n",
      " 2   Manufacturer      15725 non-null  object \n",
      " 3   Model             15725 non-null  object \n",
      " 4   Category          15725 non-null  object \n",
      " 5   Leather interior  15725 non-null  object \n",
      " 6   Fuel type         15725 non-null  object \n",
      " 7   Engine volume     15725 non-null  float64\n",
      " 8   Mileage           15725 non-null  int64  \n",
      " 9   Cylinders         15725 non-null  float64\n",
      " 10  Gear box type     15725 non-null  object \n",
      " 11  Drive wheels      15725 non-null  object \n",
      " 12  Wheel             15725 non-null  object \n",
      " 13  Color             15725 non-null  object \n",
      " 14  Airbags           15725 non-null  int64  \n",
      " 15  Age               15725 non-null  int64  \n",
      "dtypes: float64(2), int64(5), object(9)\n",
      "memory usage: 1.9+ MB\n"
     ]
    }
   ],
   "source": [
    "data.info()"
   ]
  },
  {
   "cell_type": "markdown",
   "id": "e7b70888",
   "metadata": {},
   "source": [
    "data_num=data.select_dtypes(exclude='object')\n",
    "for col in data_num:\n",
    "    q1=data[col].quantile(0.25)\n",
    "    q3=data[col].quantile(0.75)\n",
    "    iqr=q3-q1\n",
    "    high = q3+iqr*1.5\n",
    "    low = q1-iqr*1.5\n",
    "    outliers = ((data_num[col] < low)|(data_num[col] > high)).sum()\n",
    "    precentage = round(100*outliers/data.shape[0],2)\n",
    "    print(f\"outliers in {col} are  {outliers} ||  {precentage}\")\n",
    "    data.loc[data[col]<low]=np.nan\n",
    "    data.loc[data[col]>high]=np.nan\n",
    "    data=data.dropna(axis=0)"
   ]
  },
  {
   "cell_type": "code",
   "execution_count": 15,
   "id": "a4ea2244",
   "metadata": {},
   "outputs": [],
   "source": [
    "data.reset_index(inplace=True)\n",
    "if 'index' in data.columns :\n",
    "    data.drop (['index'],axis=1,inplace=True)"
   ]
  },
  {
   "cell_type": "code",
   "execution_count": 16,
   "id": "e0c53468",
   "metadata": {},
   "outputs": [],
   "source": [
    "top_cars = data.Manufacturer.value_counts().sort_values(ascending=False)[:10]"
   ]
  },
  {
   "cell_type": "code",
   "execution_count": 17,
   "id": "bde988ae",
   "metadata": {},
   "outputs": [
    {
     "data": {
      "image/png": "[encoded data removed]",
      "text/plain": [
       "<Figure size 1000x600 with 1 Axes>"
      ]
     },
     "metadata": {},
     "output_type": "display_data"
    }
   ],
   "source": [
    "plt.figure(figsize=(10, 6))\n",
    "sns.barplot(x=top_cars.index, y=top_cars.values, palette=\"viridis\")\n",
    "plt.title('Top 10 Car Manufacturers')\n",
    "plt.xlabel('Manufacturer')\n",
    "plt.ylabel('Number of Cars')\n",
    "plt.xticks(rotation=45)\n",
    "plt.tight_layout()\n",
    "plt.show()"
   ]
  },
  {
   "cell_type": "markdown",
   "id": "97344423",
   "metadata": {},
   "source": [
    "#### a correlation between the price of a car and its mileage?"
   ]
  },
  {
   "cell_type": "code",
   "execution_count": 18,
   "id": "b3983b67",
   "metadata": {},
   "outputs": [
    {
     "data": {
      "text/plain": [
       "-0.0020106637530234307"
      ]
     },
     "execution_count": 18,
     "metadata": {},
     "output_type": "execute_result"
    }
   ],
   "source": [
    "correlation_coefficient = data['Price'].corr(data['Mileage'])\n",
    "correlation_coefficient"
   ]
  },
  {
   "cell_type": "code",
   "execution_count": 19,
   "id": "fd365711",
   "metadata": {
    "scrolled": true
   },
   "outputs": [
    {
     "data": {
      "image/png": "[encoded data removed]",
      "text/plain": [
       "<Figure size 600x400 with 2 Axes>"
      ]
     },
     "metadata": {},
     "output_type": "display_data"
    }
   ],
   "source": [
    "price_mileage_df = data[['Price', 'Mileage']]\n",
    "correlation_matrix = price_mileage_df.corr()\n",
    "plt.figure(figsize=(6, 4))\n",
    "sns.heatmap(correlation_matrix, annot=True, cmap='coolwarm', fmt=\".2f\")\n",
    "plt.title('Correlation Heatmap between Price and Mileage (Coefficient: {:.2f})'.format(correlation_coefficient))\n",
    "plt.tight_layout()"
   ]
  },
  {
   "cell_type": "markdown",
   "id": "94a0eaeb",
   "metadata": {},
   "source": [
    "#### Which manufacturer produces the most expensive cars on average?"
   ]
  },
  {
   "cell_type": "code",
   "execution_count": 20,
   "id": "0ed2ec2f",
   "metadata": {},
   "outputs": [
    {
     "data": {
      "text/plain": [
       "Manufacturer\n",
       "LAMBORGHINI     872946.00\n",
       "BENTLEY         197574.50\n",
       "OPEL             73474.89\n",
       "FERRARI          66955.50\n",
       "LAND ROVER       54807.19\n",
       "ASTON MARTIN     54000.00\n",
       "TESLA            53941.00\n",
       "PORSCHE          48406.69\n",
       "JAGUAR           34408.79\n",
       "HUMMER           31210.60\n",
       "Name: Price, dtype: float64"
      ]
     },
     "execution_count": 20,
     "metadata": {},
     "output_type": "execute_result"
    }
   ],
   "source": [
    "average_prices = data.groupby('Manufacturer')['Price'].mean().sort_values(ascending=False)[:10]\n",
    "average_prices.round(2)"
   ]
  },
  {
   "cell_type": "code",
   "execution_count": 21,
   "id": "58fd26f1",
   "metadata": {
    "scrolled": true
   },
   "outputs": [
    {
     "data": {
      "image/png": "[encoded data removed]",
      "text/plain": [
       "<Figure size 1200x600 with 1 Axes>"
      ]
     },
     "metadata": {},
     "output_type": "display_data"
    }
   ],
   "source": [
    "average_prices = average_prices.reset_index()\n",
    "plt.figure(figsize=(12, 6))\n",
    "sns.barplot(x='Manufacturer', y='Price', data=average_prices, palette='viridis')\n",
    "plt.title('Average Price of Cars by Top 10 Manufacturers')\n",
    "plt.xlabel('Manufacturer')\n",
    "plt.ylabel('Average Price')\n",
    "plt.xticks(rotation=45)\n",
    "plt.tight_layout()\n",
    "plt.show()"
   ]
  },
  {
   "cell_type": "code",
   "execution_count": 22,
   "id": "eae72618",
   "metadata": {},
   "outputs": [],
   "source": [
    "category_distribution = data['Category'].value_counts()"
   ]
  },
  {
   "cell_type": "code",
   "execution_count": 23,
   "id": "93ae0232",
   "metadata": {},
   "outputs": [
    {
     "data": {
      "image/png": "[encoded data removed]",
      "text/plain": [
       "<Figure size 1000x600 with 1 Axes>"
      ]
     },
     "metadata": {},
     "output_type": "display_data"
    }
   ],
   "source": [
    "plt.figure(figsize=(10, 6))\n",
    "category_distribution.plot(kind='bar', color='skyblue')\n",
    "plt.title('Distribution of Car Categories')\n",
    "plt.xlabel('Category')\n",
    "plt.ylabel('Frequency')\n",
    "plt.xticks(rotation=45)\n",
    "plt.tight_layout()\n",
    "plt.show()"
   ]
  },
  {
   "cell_type": "markdown",
   "id": "46bd11dc",
   "metadata": {},
   "source": [
    "## Transform Data"
   ]
  },
  {
   "cell_type": "code",
   "execution_count": 24,
   "id": "5294ad6f",
   "metadata": {},
   "outputs": [],
   "source": [
    "lb = LabelEncoder()"
   ]
  },
  {
   "cell_type": "code",
   "execution_count": 25,
   "id": "b8266865",
   "metadata": {},
   "outputs": [],
   "source": [
    "obj=data.select_dtypes(include='object')\n",
    "non_obj=data.select_dtypes(exclude='object')\n",
    "for i in range (0 , obj.shape[1]):\n",
    "    obj.iloc[ : ,i]= lb.fit_transform(obj.iloc[ : ,i])\n",
    "data= pd.concat([obj,non_obj],axis=1)"
   ]
  },
  {
   "cell_type": "code",
   "execution_count": 26,
   "id": "76865e83",
   "metadata": {},
   "outputs": [],
   "source": [
    "sc = StandardScaler()"
   ]
  },
  {
   "cell_type": "code",
   "execution_count": 27,
   "id": "1fec0b08",
   "metadata": {},
   "outputs": [],
   "source": [
    "data['Model'] = sc.fit_transform(data[['Model']])\n",
    "data['Mileage'] = sc.fit_transform(data[['Mileage']])\n",
    "data['Age'] = sc.fit_transform(data[['Age']])\n"
   ]
  },
  {
   "cell_type": "markdown",
   "id": "2667ea7c",
   "metadata": {},
   "source": [
    "# Create model"
   ]
  },
  {
   "cell_type": "code",
   "execution_count": 29,
   "id": "77cc7bc5",
   "metadata": {},
   "outputs": [],
   "source": [
    "X = data.drop(['Price',], axis=1 )\n",
    "y = data['Price']"
   ]
  },
  {
   "cell_type": "code",
   "execution_count": 30,
   "id": "df2cf281",
   "metadata": {},
   "outputs": [],
   "source": [
    "X_train, X_test, y_train, y_test = train_test_split(X, y, test_size=0.2, random_state=42)"
   ]
  },
  {
   "cell_type": "code",
   "execution_count": 31,
   "id": "4754282c",
   "metadata": {},
   "outputs": [],
   "source": [
    "model1 = LogisticRegression()\n",
    "model2 = RandomForestClassifier()\n",
    "model3 = GaussianNB()\n",
    "model4 = DecisionTreeClassifier()\n",
    "model5 = KNeighborsClassifier()\n",
    "model6 = XGBClassifier()\n",
    "model7 = SVC()\n",
    "model8 = GradientBoostingClassifier()"
   ]
  },
  {
   "cell_type": "code",
   "execution_count": 32,
   "id": "afea1e99",
   "metadata": {},
   "outputs": [],
   "source": [
    "def pred(model):\n",
    "    model.fit(X_train , y_train)\n",
    "    y_predict= model.predict(X_test)\n",
    "    cm=confusion_matrix(y_predict, y_test , normalize='true') \n",
    "    ConfusionMatrixDisplay(confusion_matrix=cm , display_labels = model.classes_ ).plot()\n",
    "    print(classification_report(y_predict, y_test))"
   ]
  },
  {
   "cell_type": "code",
   "execution_count": null,
   "id": "5092925d",
   "metadata": {},
   "outputs": [],
   "source": [
    "pred(model1)"
   ]
  },
  {
   "cell_type": "code",
   "execution_count": null,
   "id": "787174b9",
   "metadata": {},
   "outputs": [],
   "source": [
    "pred(model2)"
   ]
  },
  {
   "cell_type": "code",
   "execution_count": null,
   "id": "d2f13572",
   "metadata": {},
   "outputs": [],
   "source": [
    "pred(model3)"
   ]
  },
  {
   "cell_type": "code",
   "execution_count": null,
   "id": "d8817d37",
   "metadata": {},
   "outputs": [],
   "source": [
    "pred(model4)"
   ]
  },
  {
   "cell_type": "code",
   "execution_count": null,
   "id": "ab37ffc3",
   "metadata": {},
   "outputs": [],
   "source": [
    "pred(model5)"
   ]
  },
  {
   "cell_type": "code",
   "execution_count": null,
   "id": "7814be2a",
   "metadata": {},
   "outputs": [],
   "source": [
    "pred(model6)"
   ]
  },
  {
   "cell_type": "code",
   "execution_count": null,
   "id": "fa8ab11a",
   "metadata": {},
   "outputs": [],
   "source": [
    "pred(model7)"
   ]
  },
  {
   "cell_type": "code",
   "execution_count": null,
   "id": "0802f0e9",
   "metadata": {},
   "outputs": [],
   "source": [
    "pred(model8)"
   ]
  },
  {
   "cell_type": "code",
   "execution_count": null,
   "id": "c5ae3033",
   "metadata": {},
   "outputs": [],
   "source": []
  }
 ],
 "metadata": {
  "kernelspec": {
   "display_name": "Python 3 (ipykernel)",
   "language": "python",
   "name": "python3"
  },
  "language_info": {
   "codemirror_mode": {
    "name": "ipython",
    "version": 3
   },
   "file_extension": ".py",
   "mimetype": "text/x-python",
   "name": "python",
   "nbconvert_exporter": "python",
   "pygments_lexer": "ipython3",
   "version": "3.11.5"
  }
 },
 "nbformat": 4,
 "nbformat_minor": 5
}
