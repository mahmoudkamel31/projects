{
 "cells": [
  {
   "cell_type": "code",
   "execution_count": 3,
   "id": "861b0c3e",
   "metadata": {},
   "outputs": [
    {
     "ename": "ModuleNotFoundError",
     "evalue": "No module named 'xgboost'",
     "output_type": "error",
     "traceback": [
      "\u001b[1;31m---------------------------------------------------------------------------\u001b[0m",
      "\u001b[1;31mModuleNotFoundError\u001b[0m                       Traceback (most recent call last)",
      "Cell \u001b[1;32mIn[3], line 14\u001b[0m\n\u001b[0;32m     12\u001b[0m \u001b[38;5;28;01mfrom\u001b[39;00m \u001b[38;5;21;01msklearn\u001b[39;00m\u001b[38;5;21;01m.\u001b[39;00m\u001b[38;5;21;01mnaive_bayes\u001b[39;00m \u001b[38;5;28;01mimport\u001b[39;00m GaussianNB\n\u001b[0;32m     13\u001b[0m \u001b[38;5;28;01mfrom\u001b[39;00m \u001b[38;5;21;01msklearn\u001b[39;00m\u001b[38;5;21;01m.\u001b[39;00m\u001b[38;5;21;01msvm\u001b[39;00m \u001b[38;5;28;01mimport\u001b[39;00m SVC\n\u001b[1;32m---> 14\u001b[0m \u001b[38;5;28;01mfrom\u001b[39;00m \u001b[38;5;21;01mxgboost\u001b[39;00m \u001b[38;5;28;01mimport\u001b[39;00m XGBClassifier\n\u001b[0;32m     15\u001b[0m \u001b[38;5;28;01mfrom\u001b[39;00m \u001b[38;5;21;01msklearn\u001b[39;00m\u001b[38;5;21;01m.\u001b[39;00m\u001b[38;5;21;01mneighbors\u001b[39;00m \u001b[38;5;28;01mimport\u001b[39;00m KNeighborsClassifier\n\u001b[0;32m     16\u001b[0m \u001b[38;5;28;01mimport\u001b[39;00m \u001b[38;5;21;01mwarnings\u001b[39;00m\n",
      "\u001b[1;31mModuleNotFoundError\u001b[0m: No module named 'xgboost'"
     ]
    }
   ],
   "source": [
    "import pandas as pd\n",
    "import numpy as np\n",
    "import matplotlib.pyplot as plt\n",
    "import seaborn as sns\n",
    "\n",
    "from sklearn.model_selection import train_test_split, GridSearchCV\n",
    "from sklearn.metrics import classification_report\n",
    "from sklearn.preprocessing import LabelEncoder , StandardScaler\n",
    "\n",
    "from sklearn.linear_model import LogisticRegression\n",
    "from sklearn.ensemble import RandomForestClassifier,GradientBoostingClassifier\n",
    "from sklearn.naive_bayes import GaussianNB\n",
    "from sklearn.svm import SVC\n",
    "from xgboost import XGBClassifier\n",
    "from sklearn.neighbors import KNeighborsClassifier\n",
    "import warnings\n",
    "warnings.filterwarnings(\"ignore\")"
   ]
  },
  {
   "cell_type": "code",
   "execution_count": 5,
   "id": "e71648d0",
   "metadata": {},
   "outputs": [
    {
     "ename": "FileNotFoundError",
     "evalue": "[Errno 2] No such file or directory: 'C:\\\\Users\\\\Ahmed\\\\Downloads\\\\New folder\\\\train.csv'",
     "output_type": "error",
     "traceback": [
      "\u001b[1;31m---------------------------------------------------------------------------\u001b[0m",
      "\u001b[1;31mFileNotFoundError\u001b[0m                         Traceback (most recent call last)",
      "Cell \u001b[1;32mIn[5], line 1\u001b[0m\n\u001b[1;32m----> 1\u001b[0m Train\u001b[38;5;241m=\u001b[39mpd\u001b[38;5;241m.\u001b[39mread_csv(\u001b[38;5;124mr\u001b[39m\u001b[38;5;124m'\u001b[39m\u001b[38;5;124mC:\u001b[39m\u001b[38;5;124m\\\u001b[39m\u001b[38;5;124mUsers\u001b[39m\u001b[38;5;124m\\\u001b[39m\u001b[38;5;124mAhmed\u001b[39m\u001b[38;5;124m\\\u001b[39m\u001b[38;5;124mDownloads\u001b[39m\u001b[38;5;124m\\\u001b[39m\u001b[38;5;124mNew folder\u001b[39m\u001b[38;5;124m\\\u001b[39m\u001b[38;5;124mtrain.csv\u001b[39m\u001b[38;5;124m'\u001b[39m)\n",
      "File \u001b[1;32m~\\anaconda3\\Lib\\site-packages\\pandas\\io\\parsers\\readers.py:912\u001b[0m, in \u001b[0;36mread_csv\u001b[1;34m(filepath_or_buffer, sep, delimiter, header, names, index_col, usecols, dtype, engine, converters, true_values, false_values, skipinitialspace, skiprows, skipfooter, nrows, na_values, keep_default_na, na_filter, verbose, skip_blank_lines, parse_dates, infer_datetime_format, keep_date_col, date_parser, date_format, dayfirst, cache_dates, iterator, chunksize, compression, thousands, decimal, lineterminator, quotechar, quoting, doublequote, escapechar, comment, encoding, encoding_errors, dialect, on_bad_lines, delim_whitespace, low_memory, memory_map, float_precision, storage_options, dtype_backend)\u001b[0m\n\u001b[0;32m    899\u001b[0m kwds_defaults \u001b[38;5;241m=\u001b[39m _refine_defaults_read(\n\u001b[0;32m    900\u001b[0m     dialect,\n\u001b[0;32m    901\u001b[0m     delimiter,\n\u001b[1;32m   (...)\u001b[0m\n\u001b[0;32m    908\u001b[0m     dtype_backend\u001b[38;5;241m=\u001b[39mdtype_backend,\n\u001b[0;32m    909\u001b[0m )\n\u001b[0;32m    910\u001b[0m kwds\u001b[38;5;241m.\u001b[39mupdate(kwds_defaults)\n\u001b[1;32m--> 912\u001b[0m \u001b[38;5;28;01mreturn\u001b[39;00m _read(filepath_or_buffer, kwds)\n",
      "File \u001b[1;32m~\\anaconda3\\Lib\\site-packages\\pandas\\io\\parsers\\readers.py:577\u001b[0m, in \u001b[0;36m_read\u001b[1;34m(filepath_or_buffer, kwds)\u001b[0m\n\u001b[0;32m    574\u001b[0m _validate_names(kwds\u001b[38;5;241m.\u001b[39mget(\u001b[38;5;124m\"\u001b[39m\u001b[38;5;124mnames\u001b[39m\u001b[38;5;124m\"\u001b[39m, \u001b[38;5;28;01mNone\u001b[39;00m))\n\u001b[0;32m    576\u001b[0m \u001b[38;5;66;03m# Create the parser.\u001b[39;00m\n\u001b[1;32m--> 577\u001b[0m parser \u001b[38;5;241m=\u001b[39m TextFileReader(filepath_or_buffer, \u001b[38;5;241m*\u001b[39m\u001b[38;5;241m*\u001b[39mkwds)\n\u001b[0;32m    579\u001b[0m \u001b[38;5;28;01mif\u001b[39;00m chunksize \u001b[38;5;129;01mor\u001b[39;00m iterator:\n\u001b[0;32m    580\u001b[0m     \u001b[38;5;28;01mreturn\u001b[39;00m parser\n",
      "File \u001b[1;32m~\\anaconda3\\Lib\\site-packages\\pandas\\io\\parsers\\readers.py:1407\u001b[0m, in \u001b[0;36mTextFileReader.__init__\u001b[1;34m(self, f, engine, **kwds)\u001b[0m\n\u001b[0;32m   1404\u001b[0m     \u001b[38;5;28mself\u001b[39m\u001b[38;5;241m.\u001b[39moptions[\u001b[38;5;124m\"\u001b[39m\u001b[38;5;124mhas_index_names\u001b[39m\u001b[38;5;124m\"\u001b[39m] \u001b[38;5;241m=\u001b[39m kwds[\u001b[38;5;124m\"\u001b[39m\u001b[38;5;124mhas_index_names\u001b[39m\u001b[38;5;124m\"\u001b[39m]\n\u001b[0;32m   1406\u001b[0m \u001b[38;5;28mself\u001b[39m\u001b[38;5;241m.\u001b[39mhandles: IOHandles \u001b[38;5;241m|\u001b[39m \u001b[38;5;28;01mNone\u001b[39;00m \u001b[38;5;241m=\u001b[39m \u001b[38;5;28;01mNone\u001b[39;00m\n\u001b[1;32m-> 1407\u001b[0m \u001b[38;5;28mself\u001b[39m\u001b[38;5;241m.\u001b[39m_engine \u001b[38;5;241m=\u001b[39m \u001b[38;5;28mself\u001b[39m\u001b[38;5;241m.\u001b[39m_make_engine(f, \u001b[38;5;28mself\u001b[39m\u001b[38;5;241m.\u001b[39mengine)\n",
      "File \u001b[1;32m~\\anaconda3\\Lib\\site-packages\\pandas\\io\\parsers\\readers.py:1661\u001b[0m, in \u001b[0;36mTextFileReader._make_engine\u001b[1;34m(self, f, engine)\u001b[0m\n\u001b[0;32m   1659\u001b[0m     \u001b[38;5;28;01mif\u001b[39;00m \u001b[38;5;124m\"\u001b[39m\u001b[38;5;124mb\u001b[39m\u001b[38;5;124m\"\u001b[39m \u001b[38;5;129;01mnot\u001b[39;00m \u001b[38;5;129;01min\u001b[39;00m mode:\n\u001b[0;32m   1660\u001b[0m         mode \u001b[38;5;241m+\u001b[39m\u001b[38;5;241m=\u001b[39m \u001b[38;5;124m\"\u001b[39m\u001b[38;5;124mb\u001b[39m\u001b[38;5;124m\"\u001b[39m\n\u001b[1;32m-> 1661\u001b[0m \u001b[38;5;28mself\u001b[39m\u001b[38;5;241m.\u001b[39mhandles \u001b[38;5;241m=\u001b[39m get_handle(\n\u001b[0;32m   1662\u001b[0m     f,\n\u001b[0;32m   1663\u001b[0m     mode,\n\u001b[0;32m   1664\u001b[0m     encoding\u001b[38;5;241m=\u001b[39m\u001b[38;5;28mself\u001b[39m\u001b[38;5;241m.\u001b[39moptions\u001b[38;5;241m.\u001b[39mget(\u001b[38;5;124m\"\u001b[39m\u001b[38;5;124mencoding\u001b[39m\u001b[38;5;124m\"\u001b[39m, \u001b[38;5;28;01mNone\u001b[39;00m),\n\u001b[0;32m   1665\u001b[0m     compression\u001b[38;5;241m=\u001b[39m\u001b[38;5;28mself\u001b[39m\u001b[38;5;241m.\u001b[39moptions\u001b[38;5;241m.\u001b[39mget(\u001b[38;5;124m\"\u001b[39m\u001b[38;5;124mcompression\u001b[39m\u001b[38;5;124m\"\u001b[39m, \u001b[38;5;28;01mNone\u001b[39;00m),\n\u001b[0;32m   1666\u001b[0m     memory_map\u001b[38;5;241m=\u001b[39m\u001b[38;5;28mself\u001b[39m\u001b[38;5;241m.\u001b[39moptions\u001b[38;5;241m.\u001b[39mget(\u001b[38;5;124m\"\u001b[39m\u001b[38;5;124mmemory_map\u001b[39m\u001b[38;5;124m\"\u001b[39m, \u001b[38;5;28;01mFalse\u001b[39;00m),\n\u001b[0;32m   1667\u001b[0m     is_text\u001b[38;5;241m=\u001b[39mis_text,\n\u001b[0;32m   1668\u001b[0m     errors\u001b[38;5;241m=\u001b[39m\u001b[38;5;28mself\u001b[39m\u001b[38;5;241m.\u001b[39moptions\u001b[38;5;241m.\u001b[39mget(\u001b[38;5;124m\"\u001b[39m\u001b[38;5;124mencoding_errors\u001b[39m\u001b[38;5;124m\"\u001b[39m, \u001b[38;5;124m\"\u001b[39m\u001b[38;5;124mstrict\u001b[39m\u001b[38;5;124m\"\u001b[39m),\n\u001b[0;32m   1669\u001b[0m     storage_options\u001b[38;5;241m=\u001b[39m\u001b[38;5;28mself\u001b[39m\u001b[38;5;241m.\u001b[39moptions\u001b[38;5;241m.\u001b[39mget(\u001b[38;5;124m\"\u001b[39m\u001b[38;5;124mstorage_options\u001b[39m\u001b[38;5;124m\"\u001b[39m, \u001b[38;5;28;01mNone\u001b[39;00m),\n\u001b[0;32m   1670\u001b[0m )\n\u001b[0;32m   1671\u001b[0m \u001b[38;5;28;01massert\u001b[39;00m \u001b[38;5;28mself\u001b[39m\u001b[38;5;241m.\u001b[39mhandles \u001b[38;5;129;01mis\u001b[39;00m \u001b[38;5;129;01mnot\u001b[39;00m \u001b[38;5;28;01mNone\u001b[39;00m\n\u001b[0;32m   1672\u001b[0m f \u001b[38;5;241m=\u001b[39m \u001b[38;5;28mself\u001b[39m\u001b[38;5;241m.\u001b[39mhandles\u001b[38;5;241m.\u001b[39mhandle\n",
      "File \u001b[1;32m~\\anaconda3\\Lib\\site-packages\\pandas\\io\\common.py:859\u001b[0m, in \u001b[0;36mget_handle\u001b[1;34m(path_or_buf, mode, encoding, compression, memory_map, is_text, errors, storage_options)\u001b[0m\n\u001b[0;32m    854\u001b[0m \u001b[38;5;28;01melif\u001b[39;00m \u001b[38;5;28misinstance\u001b[39m(handle, \u001b[38;5;28mstr\u001b[39m):\n\u001b[0;32m    855\u001b[0m     \u001b[38;5;66;03m# Check whether the filename is to be opened in binary mode.\u001b[39;00m\n\u001b[0;32m    856\u001b[0m     \u001b[38;5;66;03m# Binary mode does not support 'encoding' and 'newline'.\u001b[39;00m\n\u001b[0;32m    857\u001b[0m     \u001b[38;5;28;01mif\u001b[39;00m ioargs\u001b[38;5;241m.\u001b[39mencoding \u001b[38;5;129;01mand\u001b[39;00m \u001b[38;5;124m\"\u001b[39m\u001b[38;5;124mb\u001b[39m\u001b[38;5;124m\"\u001b[39m \u001b[38;5;129;01mnot\u001b[39;00m \u001b[38;5;129;01min\u001b[39;00m ioargs\u001b[38;5;241m.\u001b[39mmode:\n\u001b[0;32m    858\u001b[0m         \u001b[38;5;66;03m# Encoding\u001b[39;00m\n\u001b[1;32m--> 859\u001b[0m         handle \u001b[38;5;241m=\u001b[39m \u001b[38;5;28mopen\u001b[39m(\n\u001b[0;32m    860\u001b[0m             handle,\n\u001b[0;32m    861\u001b[0m             ioargs\u001b[38;5;241m.\u001b[39mmode,\n\u001b[0;32m    862\u001b[0m             encoding\u001b[38;5;241m=\u001b[39mioargs\u001b[38;5;241m.\u001b[39mencoding,\n\u001b[0;32m    863\u001b[0m             errors\u001b[38;5;241m=\u001b[39merrors,\n\u001b[0;32m    864\u001b[0m             newline\u001b[38;5;241m=\u001b[39m\u001b[38;5;124m\"\u001b[39m\u001b[38;5;124m\"\u001b[39m,\n\u001b[0;32m    865\u001b[0m         )\n\u001b[0;32m    866\u001b[0m     \u001b[38;5;28;01melse\u001b[39;00m:\n\u001b[0;32m    867\u001b[0m         \u001b[38;5;66;03m# Binary mode\u001b[39;00m\n\u001b[0;32m    868\u001b[0m         handle \u001b[38;5;241m=\u001b[39m \u001b[38;5;28mopen\u001b[39m(handle, ioargs\u001b[38;5;241m.\u001b[39mmode)\n",
      "\u001b[1;31mFileNotFoundError\u001b[0m: [Errno 2] No such file or directory: 'C:\\\\Users\\\\Ahmed\\\\Downloads\\\\New folder\\\\train.csv'"
     ]
    }
   ],
   "source": [
    "Train=pd.read_csv(r'C:\\Users\\Ahmed\\Downloads\\New folder\\train.csv')"
   ]
  },
  {
   "cell_type": "markdown",
   "id": "618323a3",
   "metadata": {},
   "source": [
    "# Explore Data"
   ]
  },
  {
   "cell_type": "code",
   "execution_count": null,
   "id": "03d5223b",
   "metadata": {},
   "outputs": [],
   "source": [
    "#Train.head()\n",
    "#Train.tail()\n",
    "Train.sample(10)"
   ]
  },
  {
   "cell_type": "code",
   "execution_count": null,
   "id": "e81fd890",
   "metadata": {},
   "outputs": [],
   "source": [
    "Train.shape"
   ]
  },
  {
   "cell_type": "code",
   "execution_count": null,
   "id": "59bc7026",
   "metadata": {},
   "outputs": [],
   "source": [
    "Train.columns"
   ]
  },
  {
   "cell_type": "code",
   "execution_count": null,
   "id": "b94a83f8",
   "metadata": {},
   "outputs": [],
   "source": [
    "Train.info()"
   ]
  },
  {
   "cell_type": "code",
   "execution_count": null,
   "id": "801cca8b",
   "metadata": {},
   "outputs": [],
   "source": [
    "Train.isnull().sum()"
   ]
  },
  {
   "cell_type": "code",
   "execution_count": null,
   "id": "3be57922",
   "metadata": {},
   "outputs": [],
   "source": [
    "Train.duplicated().sum()"
   ]
  },
  {
   "cell_type": "code",
   "execution_count": null,
   "id": "3345456e",
   "metadata": {},
   "outputs": [],
   "source": [
    "Train.describe()"
   ]
  },
  {
   "cell_type": "markdown",
   "id": "cf0471fb",
   "metadata": {},
   "source": [
    "# Transform Data\n"
   ]
  },
  {
   "cell_type": "code",
   "execution_count": null,
   "id": "e082f7ee",
   "metadata": {},
   "outputs": [],
   "source": [
    "la=LabelEncoder()"
   ]
  },
  {
   "cell_type": "code",
   "execution_count": null,
   "id": "157bf76a",
   "metadata": {},
   "outputs": [],
   "source": [
    "obj=Train.select_dtypes(include='object')\n",
    "non_obj=Train.select_dtypes(exclude='object')"
   ]
  },
  {
   "cell_type": "code",
   "execution_count": null,
   "id": "4451555b",
   "metadata": {},
   "outputs": [],
   "source": [
    "for i in range(0,obj.shape[1]):\n",
    "    obj.iloc[:,i]=la.fit_transform(obj.iloc[:,i])"
   ]
  },
  {
   "cell_type": "code",
   "execution_count": null,
   "id": "3286a6b6",
   "metadata": {},
   "outputs": [],
   "source": [
    "obj=obj.astype(\"int\")"
   ]
  },
  {
   "cell_type": "code",
   "execution_count": null,
   "id": "521dbb6c",
   "metadata": {},
   "outputs": [],
   "source": [
    "data=pd.concat([obj,non_obj],axis=1)\n",
    "data"
   ]
  },
  {
   "cell_type": "code",
   "execution_count": null,
   "id": "e6e9ff03",
   "metadata": {},
   "outputs": [],
   "source": [
    "test=pd.read_csv(r'C:\\Users\\Ahmed\\Downloads\\New folder\\test.csv')"
   ]
  },
  {
   "cell_type": "code",
   "execution_count": null,
   "id": "b99d69a4",
   "metadata": {},
   "outputs": [],
   "source": [
    "obj=test.select_dtypes(include='object')\n",
    "non_obj=test.select_dtypes(exclude='object')\n",
    "for i in range(0,obj.shape[1]):\n",
    "    obj.iloc[:,i]=la.fit_transform(obj.iloc[:,i])\n",
    "obj=obj.astype(\"int\")    \n",
    "test=pd.concat([obj,non_obj],axis=1)"
   ]
  },
  {
   "cell_type": "code",
   "execution_count": null,
   "id": "e01de1f7",
   "metadata": {},
   "outputs": [],
   "source": [
    "test.head()"
   ]
  },
  {
   "cell_type": "code",
   "execution_count": null,
   "id": "b8821f42",
   "metadata": {},
   "outputs": [],
   "source": [
    "sc=StandardScaler()"
   ]
  },
  {
   "cell_type": "code",
   "execution_count": null,
   "id": "f5622e5e",
   "metadata": {},
   "outputs": [],
   "source": [
    "scal1=data[['Age']]\n",
    "scal2=data[['Weight']]\n",
    "data['Age']=sc.fit_transform(scal1)\n",
    "data['Weight']=sc.fit_transform(scal2)"
   ]
  },
  {
   "cell_type": "code",
   "execution_count": null,
   "id": "ae02d26e",
   "metadata": {},
   "outputs": [],
   "source": [
    "data"
   ]
  },
  {
   "cell_type": "code",
   "execution_count": 4,
   "id": "64952f59",
   "metadata": {},
   "outputs": [
    {
     "ename": "NameError",
     "evalue": "name 'test' is not defined",
     "output_type": "error",
     "traceback": [
      "\u001b[1;31m---------------------------------------------------------------------------\u001b[0m",
      "\u001b[1;31mNameError\u001b[0m                                 Traceback (most recent call last)",
      "Cell \u001b[1;32mIn[4], line 1\u001b[0m\n\u001b[1;32m----> 1\u001b[0m scal1\u001b[38;5;241m=\u001b[39mtest[[\u001b[38;5;124m'\u001b[39m\u001b[38;5;124mAge\u001b[39m\u001b[38;5;124m'\u001b[39m]]\n\u001b[0;32m      2\u001b[0m scal2\u001b[38;5;241m=\u001b[39mtest[[\u001b[38;5;124m'\u001b[39m\u001b[38;5;124mWeight\u001b[39m\u001b[38;5;124m'\u001b[39m]]\n\u001b[0;32m      3\u001b[0m test[\u001b[38;5;124m'\u001b[39m\u001b[38;5;124mAge\u001b[39m\u001b[38;5;124m'\u001b[39m]\u001b[38;5;241m=\u001b[39msc\u001b[38;5;241m.\u001b[39mfit_transform(scal1)\n",
      "\u001b[1;31mNameError\u001b[0m: name 'test' is not defined"
     ]
    }
   ],
   "source": [
    "scal1=test[['Age']]\n",
    "scal2=test[['Weight']]\n",
    "test['Age']=sc.fit_transform(scal1)\n",
    "test['Weight']=sc.fit_transform(scal2)"
   ]
  },
  {
   "cell_type": "markdown",
   "id": "a01e6ded",
   "metadata": {},
   "source": [
    "# Create model"
   ]
  },
  {
   "cell_type": "code",
   "execution_count": 22,
   "id": "6d27df33",
   "metadata": {},
   "outputs": [],
   "source": [
    "x=data.drop(['NObeyesdad','id'],axis=1)\n",
    "y=data['NObeyesdad']"
   ]
  },
  {
   "cell_type": "code",
   "execution_count": 23,
   "id": "2d18b976",
   "metadata": {},
   "outputs": [],
   "source": [
    "x_train,x_test,y_train,y_test=train_test_split(x,y,test_size=0.2,random_state=21)"
   ]
  },
  {
   "cell_type": "code",
   "execution_count": null,
   "id": "7423299c",
   "metadata": {},
   "outputs": [],
   "source": [
    "model1=LogisticRegression()\n",
    "model2=RandomForestClassifier()\n",
    "model3=GaussianNB()\n",
    "model4=SVC()\n",
    "model5=XGBClassifier(learning_rate=0.1, max_depth=3, n_estimators=300)\n",
    "model6=GradientBoostingClassifier(learning_rate=0.1, max_depth=5, n_estimators=300)"
   ]
  },
  {
   "cell_type": "code",
   "execution_count": 25,
   "id": "4ecd4258",
   "metadata": {},
   "outputs": [],
   "source": [
    "def pred(model):\n",
    "    model.fit(x_train,y_train)\n",
    "    pre=model.predict(x_test)\n",
    "    print(classification_report(pre,y_test))"
   ]
  },
  {
   "cell_type": "code",
   "execution_count": 26,
   "id": "410539cf",
   "metadata": {},
   "outputs": [
    {
     "name": "stdout",
     "output_type": "stream",
     "text": [
      "              precision    recall  f1-score   support\n",
      "\n",
      "           0       0.86      0.79      0.82       560\n",
      "           1       0.72      0.71      0.71       642\n",
      "           2       0.78      0.81      0.79       574\n",
      "           3       0.96      0.92      0.94       634\n",
      "           4       1.00      0.99      1.00       823\n",
      "           5       0.58      0.67      0.62       418\n",
      "           6       0.63      0.62      0.63       501\n",
      "\n",
      "    accuracy                           0.81      4152\n",
      "   macro avg       0.79      0.79      0.79      4152\n",
      "weighted avg       0.81      0.81      0.81      4152\n",
      "\n"
     ]
    }
   ],
   "source": [
    "pred(model1)"
   ]
  },
  {
   "cell_type": "code",
   "execution_count": 27,
   "id": "5f366f64",
   "metadata": {},
   "outputs": [
    {
     "name": "stdout",
     "output_type": "stream",
     "text": [
      "              precision    recall  f1-score   support\n",
      "\n",
      "           0       0.94      0.93      0.93       524\n",
      "           1       0.90      0.85      0.88       668\n",
      "           2       0.88      0.90      0.89       586\n",
      "           3       0.97      0.97      0.97       609\n",
      "           4       1.00      1.00      1.00       820\n",
      "           5       0.74      0.84      0.79       425\n",
      "           6       0.84      0.79      0.82       520\n",
      "\n",
      "    accuracy                           0.91      4152\n",
      "   macro avg       0.90      0.90      0.90      4152\n",
      "weighted avg       0.91      0.91      0.91      4152\n",
      "\n"
     ]
    }
   ],
   "source": [
    "pred(model2)"
   ]
  },
  {
   "cell_type": "code",
   "execution_count": 28,
   "id": "60d49f8a",
   "metadata": {},
   "outputs": [
    {
     "name": "stdout",
     "output_type": "stream",
     "text": [
      "              precision    recall  f1-score   support\n",
      "\n",
      "           0       0.88      0.69      0.77       668\n",
      "           1       0.47      0.64      0.54       459\n",
      "           2       0.60      0.40      0.48       893\n",
      "           3       0.93      0.69      0.79       826\n",
      "           4       1.00      0.96      0.98       853\n",
      "           5       0.27      0.61      0.38       217\n",
      "           6       0.26      0.53      0.35       236\n",
      "\n",
      "    accuracy                           0.66      4152\n",
      "   macro avg       0.63      0.65      0.61      4152\n",
      "weighted avg       0.74      0.66      0.69      4152\n",
      "\n"
     ]
    }
   ],
   "source": [
    "pred(model3)"
   ]
  },
  {
   "cell_type": "code",
   "execution_count": 29,
   "id": "42e88bcd",
   "metadata": {},
   "outputs": [
    {
     "name": "stdout",
     "output_type": "stream",
     "text": [
      "              precision    recall  f1-score   support\n",
      "\n",
      "           0       0.93      0.85      0.89       570\n",
      "           1       0.78      0.81      0.79       610\n",
      "           2       0.82      0.85      0.83       580\n",
      "           3       0.97      0.95      0.96       618\n",
      "           4       1.00      1.00      1.00       820\n",
      "           5       0.63      0.72      0.67       422\n",
      "           6       0.74      0.68      0.71       532\n",
      "\n",
      "    accuracy                           0.85      4152\n",
      "   macro avg       0.84      0.84      0.84      4152\n",
      "weighted avg       0.86      0.85      0.85      4152\n",
      "\n"
     ]
    }
   ],
   "source": [
    "pred(model4)"
   ]
  },
  {
   "cell_type": "code",
   "execution_count": 37,
   "id": "5614026c",
   "metadata": {},
   "outputs": [
    {
     "name": "stdout",
     "output_type": "stream",
     "text": [
      "              precision    recall  f1-score   support\n",
      "\n",
      "           0       0.93      0.92      0.93       527\n",
      "           1       0.89      0.86      0.88       648\n",
      "           2       0.88      0.91      0.90       578\n",
      "           3       0.98      0.96      0.97       614\n",
      "           4       1.00      1.00      1.00       821\n",
      "           5       0.77      0.83      0.80       447\n",
      "           6       0.86      0.82      0.84       517\n",
      "\n",
      "    accuracy                           0.91      4152\n",
      "   macro avg       0.90      0.90      0.90      4152\n",
      "weighted avg       0.91      0.91      0.91      4152\n",
      "\n"
     ]
    }
   ],
   "source": [
    "pred(model5)"
   ]
  },
  {
   "cell_type": "code",
   "execution_count": 38,
   "id": "9123b067",
   "metadata": {},
   "outputs": [
    {
     "name": "stdout",
     "output_type": "stream",
     "text": [
      "              precision    recall  f1-score   support\n",
      "\n",
      "           0       0.94      0.92      0.93       526\n",
      "           1       0.90      0.87      0.88       650\n",
      "           2       0.87      0.91      0.89       576\n",
      "           3       0.97      0.96      0.97       612\n",
      "           4       1.00      1.00      1.00       820\n",
      "           5       0.78      0.84      0.81       449\n",
      "           6       0.84      0.80      0.82       519\n",
      "\n",
      "    accuracy                           0.91      4152\n",
      "   macro avg       0.90      0.90      0.90      4152\n",
      "weighted avg       0.91      0.91      0.91      4152\n",
      "\n"
     ]
    }
   ],
   "source": [
    "pred(model6)"
   ]
  },
  {
   "cell_type": "code",
   "execution_count": 32,
   "id": "612d1cf4",
   "metadata": {},
   "outputs": [],
   "source": [
    "prim_grid={'n_estimators':[100,200,300],\n",
    "         'learning_rate':[0.1,0.01,0.001],\n",
    "          'max_depth':[3,5,7]}\n",
    "scorer=\"accuracy\""
   ]
  },
  {
   "cell_type": "code",
   "execution_count": 35,
   "id": "9a1aac76",
   "metadata": {},
   "outputs": [
    {
     "name": "stdout",
     "output_type": "stream",
     "text": [
      "{'learning_rate': 0.1, 'max_depth': 3, 'n_estimators': 300}\n",
      "0.904913943179167\n"
     ]
    }
   ],
   "source": [
    "m5=GridSearchCV(model5,prim_grid,scoring=scorer, n_jobs=-1)\n",
    "m5.fit(x_train,y_train)\n",
    "print(m5.best_params_)\n",
    "print(m5.best_score_)"
   ]
  },
  {
   "cell_type": "code",
   "execution_count": 39,
   "id": "a804fdd3",
   "metadata": {},
   "outputs": [],
   "source": [
    "testx=test.drop('id',axis=1)"
   ]
  },
  {
   "cell_type": "code",
   "execution_count": 40,
   "id": "33d1966f",
   "metadata": {},
   "outputs": [],
   "source": [
    "prex=model5.predict(testx)"
   ]
  },
  {
   "cell_type": "code",
   "execution_count": 44,
   "id": "4d5e1cd6",
   "metadata": {},
   "outputs": [],
   "source": [
    "submission=pd.DataFrame({\"id\":test['id'],\"NObeyesdad\":prex})"
   ]
  },
  {
   "cell_type": "code",
   "execution_count": 88,
   "id": "4a587adf",
   "metadata": {},
   "outputs": [],
   "source": [
    "submission['NObeyesdad']=la.inverse_transform(prex)\n"
   ]
  },
  {
   "cell_type": "code",
   "execution_count": 90,
   "id": "da840e72",
   "metadata": {},
   "outputs": [],
   "source": [
    "submission.to_csv(\"submission.csv\",index=False)"
   ]
  },
  {
   "cell_type": "code",
   "execution_count": null,
   "id": "f8aa5f18",
   "metadata": {},
   "outputs": [],
   "source": []
  }
 ],
 "metadata": {
  "kernelspec": {
   "display_name": "Python 3 (ipykernel)",
   "language": "python",
   "name": "python3"
  },
  "language_info": {
   "codemirror_mode": {
    "name": "ipython",
    "version": 3
   },
   "file_extension": ".py",
   "mimetype": "text/x-python",
   "name": "python",
   "nbconvert_exporter": "python",
   "pygments_lexer": "ipython3",
   "version": "3.11.5"
  }
 },
 "nbformat": 4,
 "nbformat_minor": 5
}
