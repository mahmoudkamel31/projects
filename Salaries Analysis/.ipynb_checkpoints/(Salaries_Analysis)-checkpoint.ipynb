{
 "cells": [
  {
   "cell_type": "markdown",
   "metadata": {
    "id": "-5Jq8OxEKmhK"
   },
   "source": [
    "![download.png](data:image/png;base64,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)"
   ]
  },
  {
   "cell_type": "markdown",
   "metadata": {
    "id": "y7JdpxnBH65U"
   },
   "source": [
    "# *Data Anlaysis (Salaries Analysis)*"
   ]
  },
  {
   "cell_type": "markdown",
   "metadata": {
    "id": "a9Y4r5DXH65W"
   },
   "source": [
    "## Today's Outline\n",
    "- Full Data Analysis Case-study\n",
    "    - Salaries Analysis"
   ]
  },
  {
   "cell_type": "markdown",
   "metadata": {
    "id": "_BCtIWhMH65X"
   },
   "source": [
    "## Case-study: Salaries EDA"
   ]
  },
  {
   "cell_type": "markdown",
   "metadata": {
    "id": "vx8pS9JSH65Y"
   },
   "source": [
    "This dataset can be found on Kaggle:\n",
    "https://www.kaggle.com/kaggle/sf-salaries"
   ]
  },
  {
   "cell_type": "markdown",
   "metadata": {
    "id": "nOJ8fYqNH65Y"
   },
   "source": [
    "#### Import pandas as pd"
   ]
  },
  {
   "cell_type": "code",
   "execution_count": null,
   "metadata": {
    "id": "2bfDUFStKK58"
   },
   "outputs": [],
   "source": []
  },
  {
   "cell_type": "markdown",
   "metadata": {
    "id": "PU1xRyaaH65Z"
   },
   "source": [
    "#### Read Salaries.csv as a dataframe"
   ]
  },
  {
   "cell_type": "code",
   "execution_count": null,
   "metadata": {
    "id": "J-LNXbjcKLV8"
   },
   "outputs": [],
   "source": []
  },
  {
   "cell_type": "markdown",
   "metadata": {
    "id": "GPLK4GOqH65a"
   },
   "source": [
    "#### Check the head of the DataFrame"
   ]
  },
  {
   "cell_type": "code",
   "execution_count": null,
   "metadata": {
    "id": "PwHg-m8EKM2p"
   },
   "outputs": [],
   "source": []
  },
  {
   "cell_type": "markdown",
   "metadata": {
    "id": "7BQe-piFH65b"
   },
   "source": [
    "#### Use the .info() method to find out how many entries there are"
   ]
  },
  {
   "cell_type": "code",
   "execution_count": null,
   "metadata": {
    "id": "q4sS9oVQKN6r"
   },
   "outputs": [],
   "source": []
  },
  {
   "cell_type": "markdown",
   "metadata": {
    "id": "Deeof26HH65b"
   },
   "source": [
    "#### What is the average BasePay ?"
   ]
  },
  {
   "cell_type": "code",
   "execution_count": null,
   "metadata": {
    "id": "KGhMcm44KOn3"
   },
   "outputs": [],
   "source": []
  },
  {
   "cell_type": "markdown",
   "metadata": {
    "id": "VYfcMaF1H65c"
   },
   "source": [
    "#### What is the highest amount of OvertimePay in the dataset ?"
   ]
  },
  {
   "cell_type": "code",
   "execution_count": null,
   "metadata": {
    "id": "RpJ9xPFaKPr0"
   },
   "outputs": [],
   "source": []
  },
  {
   "cell_type": "markdown",
   "metadata": {
    "id": "IiSRPjLkH65c"
   },
   "source": [
    "#### What is the job title of JOSEPH DRISCOLL ? Note: Use all caps, otherwise you may get an answer that doesn't match up (there is also a lowercase Joseph Driscoll)."
   ]
  },
  {
   "cell_type": "code",
   "execution_count": null,
   "metadata": {
    "id": "-B0cDlYHKQ87"
   },
   "outputs": [],
   "source": []
  },
  {
   "cell_type": "markdown",
   "metadata": {
    "id": "skYYWdaYH65c"
   },
   "source": [
    "#### How much does JOSEPH DRISCOLL make (including benefits)?"
   ]
  },
  {
   "cell_type": "code",
   "execution_count": null,
   "metadata": {
    "id": "0XuxbpJ-KR1n"
   },
   "outputs": [],
   "source": []
  },
  {
   "cell_type": "markdown",
   "metadata": {
    "id": "1lcR_G3yH65d"
   },
   "source": [
    "#### What is the name of highest paid person (including benefits)?"
   ]
  },
  {
   "cell_type": "code",
   "execution_count": null,
   "metadata": {
    "id": "zmKHBR3QKS5l"
   },
   "outputs": [],
   "source": []
  },
  {
   "cell_type": "markdown",
   "metadata": {
    "id": "_71KugzLH65d"
   },
   "source": [
    "#### What is the name of lowest paid person (including benefits)? Do you notice something strange about how much he or she is paid?"
   ]
  },
  {
   "cell_type": "code",
   "execution_count": null,
   "metadata": {
    "id": "HjQdg2opKTyI"
   },
   "outputs": [],
   "source": []
  },
  {
   "cell_type": "markdown",
   "metadata": {
    "id": "UBUYBqBFH65e"
   },
   "source": [
    "#### What was the average (mean) BasePay of all employees per year? (2011-2014) ?"
   ]
  },
  {
   "cell_type": "code",
   "execution_count": null,
   "metadata": {
    "id": "BAVMwr4CKUsF"
   },
   "outputs": [],
   "source": []
  },
  {
   "cell_type": "markdown",
   "metadata": {
    "id": "fbFQcnlRH65e"
   },
   "source": [
    "#### How many unique job titles are there?"
   ]
  },
  {
   "cell_type": "code",
   "execution_count": null,
   "metadata": {
    "id": "XQdNgDiVKVbE"
   },
   "outputs": [],
   "source": []
  },
  {
   "cell_type": "markdown",
   "metadata": {
    "id": "NGXeIxgrH65e"
   },
   "source": [
    "#### What are the top 5 most common jobs?"
   ]
  },
  {
   "cell_type": "code",
   "execution_count": null,
   "metadata": {
    "id": "-hQ6MN9RKWJK"
   },
   "outputs": [],
   "source": []
  },
  {
   "cell_type": "markdown",
   "metadata": {
    "id": "gihVrLl7H65f"
   },
   "source": [
    "#### How many Job Titles were represented by only one person in 2013? (e.g. Job Titles with only one occurence in 2013?)"
   ]
  },
  {
   "cell_type": "code",
   "execution_count": null,
   "metadata": {
    "id": "Q3v4dqkgKW_1"
   },
   "outputs": [],
   "source": []
  },
  {
   "cell_type": "markdown",
   "metadata": {
    "id": "0sKuIOH8H65f"
   },
   "source": [
    "#### How many people have the word Chief in their job title? (This is pretty tricky)"
   ]
  },
  {
   "cell_type": "code",
   "execution_count": null,
   "metadata": {
    "id": "Zi8azFGWKX9k"
   },
   "outputs": [],
   "source": []
  },
  {
   "cell_type": "markdown",
   "metadata": {
    "id": "arwQLrjvH65g"
   },
   "source": [
    "#### Bonus: Is there a correlation between length of the Job Title string and Salary?"
   ]
  },
  {
   "cell_type": "code",
   "execution_count": null,
   "metadata": {
    "id": "tj-DSiubKZeq"
   },
   "outputs": [],
   "source": []
  },
  {
   "cell_type": "markdown",
   "metadata": {
    "id": "JyPmqeorH65h"
   },
   "source": [
    "# GOOD LUCK!"
   ]
  }
 ],
 "metadata": {
  "colab": {
   "provenance": []
  },
  "kernelspec": {
   "display_name": "Python 3 (ipykernel)",
   "language": "python",
   "name": "python3"
  },
  "language_info": {
   "codemirror_mode": {
    "name": "ipython",
    "version": 3
   },
   "file_extension": ".py",
   "mimetype": "text/x-python",
   "name": "python",
   "nbconvert_exporter": "python",
   "pygments_lexer": "ipython3",
   "version": "3.11.5"
  }
 },
 "nbformat": 4,
 "nbformat_minor": 1
}
