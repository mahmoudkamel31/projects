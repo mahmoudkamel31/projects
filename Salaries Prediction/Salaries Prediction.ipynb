{
 "cells": [
  {
   "cell_type": "markdown",
   "metadata": {
    "id": "cQQanSl9_XZq"
   },
   "source": [
    "![download.png](data:image/png;base64,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)"
   ]
  },
  {
   "cell_type": "markdown",
   "metadata": {
    "id": "GIxEvHgK-M_O"
   },
   "source": [
    "# Importing libraries"
   ]
  },
  {
   "cell_type": "code",
   "execution_count": 1,
   "metadata": {
    "id": "cnn0-H8q9I-l"
   },
   "outputs": [],
   "source": [
    "import pandas as pd\n",
    "import numpy as np\n",
    "import matplotlib.pyplot as plt \n",
    "import seaborn as sns\n",
    "import warnings\n",
    "warnings.filterwarnings(\"ignore\")"
   ]
  },
  {
   "cell_type": "markdown",
   "metadata": {
    "id": "pYm_DCEU-TR1"
   },
   "source": [
    "# Load the dataset"
   ]
  },
  {
   "cell_type": "code",
   "execution_count": 2,
   "metadata": {
    "id": "ogKt9lkd-XdS"
   },
   "outputs": [],
   "source": [
    "data = pd.read_csv('salaries.csv')"
   ]
  },
  {
   "cell_type": "code",
   "execution_count": 5,
   "metadata": {},
   "outputs": [
    {
     "data": {
      "text/html": [
       "<div>\n",
       "<style scoped>\n",
       "    .dataframe tbody tr th:only-of-type {\n",
       "        vertical-align: middle;\n",
       "    }\n",
       "\n",
       "    .dataframe tbody tr th {\n",
       "        vertical-align: top;\n",
       "    }\n",
       "\n",
       "    .dataframe thead th {\n",
       "        text-align: right;\n",
       "    }\n",
       "</style>\n",
       "<table border=\"1\" class=\"dataframe\">\n",
       "  <thead>\n",
       "    <tr style=\"text-align: right;\">\n",
       "      <th></th>\n",
       "      <th>Id</th>\n",
       "      <th>EmployeeName</th>\n",
       "      <th>JobTitle</th>\n",
       "      <th>BasePay</th>\n",
       "      <th>OvertimePay</th>\n",
       "      <th>OtherPay</th>\n",
       "      <th>Benefits</th>\n",
       "      <th>TotalPay</th>\n",
       "      <th>TotalPayBenefits</th>\n",
       "      <th>Year</th>\n",
       "      <th>Notes</th>\n",
       "      <th>Agency</th>\n",
       "      <th>Status</th>\n",
       "    </tr>\n",
       "  </thead>\n",
       "  <tbody>\n",
       "    <tr>\n",
       "      <th>0</th>\n",
       "      <td>1</td>\n",
       "      <td>NATHANIEL FORD</td>\n",
       "      <td>GENERAL MANAGER-METROPOLITAN TRANSIT AUTHORITY</td>\n",
       "      <td>167411.18</td>\n",
       "      <td>0.00</td>\n",
       "      <td>400184.25</td>\n",
       "      <td>NaN</td>\n",
       "      <td>567595.43</td>\n",
       "      <td>567595.43</td>\n",
       "      <td>2011</td>\n",
       "      <td>NaN</td>\n",
       "      <td>San Francisco</td>\n",
       "      <td>NaN</td>\n",
       "    </tr>\n",
       "    <tr>\n",
       "      <th>1</th>\n",
       "      <td>2</td>\n",
       "      <td>GARY JIMENEZ</td>\n",
       "      <td>CAPTAIN III (POLICE DEPARTMENT)</td>\n",
       "      <td>155966.02</td>\n",
       "      <td>245131.88</td>\n",
       "      <td>137811.38</td>\n",
       "      <td>NaN</td>\n",
       "      <td>538909.28</td>\n",
       "      <td>538909.28</td>\n",
       "      <td>2011</td>\n",
       "      <td>NaN</td>\n",
       "      <td>San Francisco</td>\n",
       "      <td>NaN</td>\n",
       "    </tr>\n",
       "    <tr>\n",
       "      <th>2</th>\n",
       "      <td>3</td>\n",
       "      <td>ALBERT PARDINI</td>\n",
       "      <td>CAPTAIN III (POLICE DEPARTMENT)</td>\n",
       "      <td>212739.13</td>\n",
       "      <td>106088.18</td>\n",
       "      <td>16452.60</td>\n",
       "      <td>NaN</td>\n",
       "      <td>335279.91</td>\n",
       "      <td>335279.91</td>\n",
       "      <td>2011</td>\n",
       "      <td>NaN</td>\n",
       "      <td>San Francisco</td>\n",
       "      <td>NaN</td>\n",
       "    </tr>\n",
       "    <tr>\n",
       "      <th>3</th>\n",
       "      <td>4</td>\n",
       "      <td>CHRISTOPHER CHONG</td>\n",
       "      <td>WIRE ROPE CABLE MAINTENANCE MECHANIC</td>\n",
       "      <td>77916.00</td>\n",
       "      <td>56120.71</td>\n",
       "      <td>198306.90</td>\n",
       "      <td>NaN</td>\n",
       "      <td>332343.61</td>\n",
       "      <td>332343.61</td>\n",
       "      <td>2011</td>\n",
       "      <td>NaN</td>\n",
       "      <td>San Francisco</td>\n",
       "      <td>NaN</td>\n",
       "    </tr>\n",
       "    <tr>\n",
       "      <th>4</th>\n",
       "      <td>5</td>\n",
       "      <td>PATRICK GARDNER</td>\n",
       "      <td>DEPUTY CHIEF OF DEPARTMENT,(FIRE DEPARTMENT)</td>\n",
       "      <td>134401.60</td>\n",
       "      <td>9737.00</td>\n",
       "      <td>182234.59</td>\n",
       "      <td>NaN</td>\n",
       "      <td>326373.19</td>\n",
       "      <td>326373.19</td>\n",
       "      <td>2011</td>\n",
       "      <td>NaN</td>\n",
       "      <td>San Francisco</td>\n",
       "      <td>NaN</td>\n",
       "    </tr>\n",
       "  </tbody>\n",
       "</table>\n",
       "</div>"
      ],
      "text/plain": [
       "   Id       EmployeeName                                        JobTitle  \\\n",
       "0   1     NATHANIEL FORD  GENERAL MANAGER-METROPOLITAN TRANSIT AUTHORITY   \n",
       "1   2       GARY JIMENEZ                 CAPTAIN III (POLICE DEPARTMENT)   \n",
       "2   3     ALBERT PARDINI                 CAPTAIN III (POLICE DEPARTMENT)   \n",
       "3   4  CHRISTOPHER CHONG            WIRE ROPE CABLE MAINTENANCE MECHANIC   \n",
       "4   5    PATRICK GARDNER    DEPUTY CHIEF OF DEPARTMENT,(FIRE DEPARTMENT)   \n",
       "\n",
       "     BasePay  OvertimePay   OtherPay  Benefits   TotalPay  TotalPayBenefits  \\\n",
       "0  167411.18         0.00  400184.25       NaN  567595.43         567595.43   \n",
       "1  155966.02    245131.88  137811.38       NaN  538909.28         538909.28   \n",
       "2  212739.13    106088.18   16452.60       NaN  335279.91         335279.91   \n",
       "3   77916.00     56120.71  198306.90       NaN  332343.61         332343.61   \n",
       "4  134401.60      9737.00  182234.59       NaN  326373.19         326373.19   \n",
       "\n",
       "   Year  Notes         Agency  Status  \n",
       "0  2011    NaN  San Francisco     NaN  \n",
       "1  2011    NaN  San Francisco     NaN  \n",
       "2  2011    NaN  San Francisco     NaN  \n",
       "3  2011    NaN  San Francisco     NaN  \n",
       "4  2011    NaN  San Francisco     NaN  "
      ]
     },
     "execution_count": 5,
     "metadata": {},
     "output_type": "execute_result"
    }
   ],
   "source": [
    "data.head()"
   ]
  },
  {
   "cell_type": "code",
   "execution_count": 6,
   "metadata": {},
   "outputs": [
    {
     "data": {
      "text/plain": [
       "(148654, 13)"
      ]
     },
     "execution_count": 6,
     "metadata": {},
     "output_type": "execute_result"
    }
   ],
   "source": [
    "data.shape"
   ]
  },
  {
   "cell_type": "code",
   "execution_count": 4,
   "metadata": {},
   "outputs": [
    {
     "data": {
      "text/plain": [
       "Id                       0\n",
       "EmployeeName             0\n",
       "JobTitle                 0\n",
       "BasePay                609\n",
       "OvertimePay              4\n",
       "OtherPay                 4\n",
       "Benefits             36163\n",
       "TotalPay                 0\n",
       "TotalPayBenefits         0\n",
       "Year                     0\n",
       "Notes               148654\n",
       "Agency                   0\n",
       "Status              148654\n",
       "dtype: int64"
      ]
     },
     "execution_count": 4,
     "metadata": {},
     "output_type": "execute_result"
    }
   ],
   "source": [
    "data.isna().sum()"
   ]
  },
  {
   "cell_type": "code",
   "execution_count": 8,
   "metadata": {},
   "outputs": [
    {
     "data": {
      "text/plain": [
       "0"
      ]
     },
     "execution_count": 8,
     "metadata": {},
     "output_type": "execute_result"
    }
   ],
   "source": [
    "data.duplicated().sum()"
   ]
  },
  {
   "cell_type": "code",
   "execution_count": null,
   "metadata": {},
   "outputs": [],
   "source": []
  },
  {
   "cell_type": "code",
   "execution_count": null,
   "metadata": {},
   "outputs": [],
   "source": []
  },
  {
   "cell_type": "code",
   "execution_count": null,
   "metadata": {},
   "outputs": [],
   "source": []
  },
  {
   "cell_type": "markdown",
   "metadata": {
    "id": "C1jkQytK-Vj0"
   },
   "source": [
    "# Data Preprocessing"
   ]
  },
  {
   "cell_type": "markdown",
   "metadata": {
    "id": "hW1ZgDvG-Wk-"
   },
   "source": [
    "- Handle missing values, encode categorical variables, and scale numerical features if necessary\n",
    "- Explore and visualize the data"
   ]
  },
  {
   "cell_type": "code",
   "execution_count": null,
   "metadata": {
    "id": "gVrEkOpQ-i61"
   },
   "outputs": [],
   "source": []
  },
  {
   "cell_type": "markdown",
   "metadata": {
    "id": "rK6v05-m-jls"
   },
   "source": [
    "# Data Splitting"
   ]
  },
  {
   "cell_type": "markdown",
   "metadata": {
    "id": "NfmFhbOT-mvr"
   },
   "source": [
    "## Divide the dataset into features (X) and target variable (y)"
   ]
  },
  {
   "cell_type": "code",
   "execution_count": null,
   "metadata": {
    "id": "cfoSQsg7-09_"
   },
   "outputs": [],
   "source": []
  },
  {
   "cell_type": "markdown",
   "metadata": {
    "id": "n3eAzHcG-r2y"
   },
   "source": [
    "## Split the data into training and testing sets"
   ]
  },
  {
   "cell_type": "code",
   "execution_count": null,
   "metadata": {
    "id": "2QonggHg-xfr"
   },
   "outputs": [],
   "source": []
  },
  {
   "cell_type": "markdown",
   "metadata": {
    "id": "MS4HZipG-xB-"
   },
   "source": [
    "# Standardization"
   ]
  },
  {
   "cell_type": "code",
   "execution_count": null,
   "metadata": {
    "id": "DhowaekF-5pd"
   },
   "outputs": [],
   "source": []
  },
  {
   "cell_type": "markdown",
   "metadata": {
    "id": "ojeGk9my-6Rl"
   },
   "source": [
    "# Model Building"
   ]
  },
  {
   "cell_type": "code",
   "execution_count": null,
   "metadata": {
    "id": "eAoPH1RZ-_jk"
   },
   "outputs": [],
   "source": []
  },
  {
   "cell_type": "markdown",
   "metadata": {
    "id": "CuEVI1p7_ACj"
   },
   "source": [
    "# Train the model"
   ]
  },
  {
   "cell_type": "code",
   "execution_count": null,
   "metadata": {
    "id": "B4qLM6PZ_Dqe"
   },
   "outputs": [],
   "source": []
  },
  {
   "cell_type": "markdown",
   "metadata": {
    "id": "qT8OXmwO_ES8"
   },
   "source": [
    "# Predictions"
   ]
  },
  {
   "cell_type": "code",
   "execution_count": null,
   "metadata": {
    "id": "gnj_m7_I_IxT"
   },
   "outputs": [],
   "source": []
  },
  {
   "cell_type": "markdown",
   "metadata": {
    "id": "GrZr4epi_JPg"
   },
   "source": [
    "# Evaluation"
   ]
  },
  {
   "cell_type": "code",
   "execution_count": null,
   "metadata": {
    "id": "DycFHxsK_Kti"
   },
   "outputs": [],
   "source": []
  }
 ],
 "metadata": {
  "colab": {
   "authorship_tag": "ABX9TyPMnRdSP9y1KOv7jxDQRYoa",
   "collapsed_sections": [
    "GIxEvHgK-M_O",
    "pYm_DCEU-TR1",
    "C1jkQytK-Vj0",
    "rK6v05-m-jls",
    "NfmFhbOT-mvr",
    "n3eAzHcG-r2y",
    "MS4HZipG-xB-",
    "ojeGk9my-6Rl",
    "CuEVI1p7_ACj",
    "qT8OXmwO_ES8",
    "GrZr4epi_JPg"
   ],
   "provenance": []
  },
  "kernelspec": {
   "display_name": "Python 3 (ipykernel)",
   "language": "python",
   "name": "python3"
  },
  "language_info": {
   "codemirror_mode": {
    "name": "ipython",
    "version": 3
   },
   "file_extension": ".py",
   "mimetype": "text/x-python",
   "name": "python",
   "nbconvert_exporter": "python",
   "pygments_lexer": "ipython3",
   "version": "3.11.5"
  }
 },
 "nbformat": 4,
 "nbformat_minor": 1
}
