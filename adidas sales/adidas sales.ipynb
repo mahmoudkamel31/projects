{
 "cells": [
  {
   "cell_type": "markdown",
   "id": "ed0a0ca2",
   "metadata": {},
   "source": [
    "# *Data Anlaysis*"
   ]
  },
  {
   "cell_type": "markdown",
   "id": "9dc49ca3",
   "metadata": {},
   "source": [
    "## Today's Outline\n",
    "- Full Data Analysis Case-study\n",
    "    - Adidas sales Analysis"
   ]
  },
  {
   "cell_type": "markdown",
   "id": "4f0fc0d8",
   "metadata": {},
   "source": [
    "## Case-study: Adidas sales EDA"
   ]
  },
  {
   "cell_type": "markdown",
   "id": "42cb015c",
   "metadata": {},
   "source": [
    "This dataset can be found on Kaggle:\n",
    "https://drive.google.com/file/d/16wbIxSXCfGqXAgoaFTjsurP9aKoh5DA8/view"
   ]
  },
  {
   "cell_type": "markdown",
   "id": "c468996e",
   "metadata": {},
   "source": [
    "## Import Libraries"
   ]
  },
  {
   "cell_type": "code",
   "execution_count": 32,
   "id": "aab80f3e",
   "metadata": {},
   "outputs": [],
   "source": [
    "import pandas as pd\n",
    "import numpy as np\n",
    "import matplotlib.pyplot as plt \n",
    "import seaborn as sns\n",
    "import warnings\n",
    "warnings.filterwarnings(\"ignore\")"
   ]
  },
  {
   "cell_type": "markdown",
   "id": "cd5ec094",
   "metadata": {},
   "source": [
    "## Data Pre-proccesing and Exploring Data"
   ]
  },
  {
   "cell_type": "code",
   "execution_count": 33,
   "id": "fb66ed1c",
   "metadata": {},
   "outputs": [],
   "source": [
    "data = pd.read_csv('data.csv')"
   ]
  },
  {
   "cell_type": "code",
   "execution_count": 34,
   "id": "312f010e",
   "metadata": {},
   "outputs": [
    {
     "data": {
      "text/html": [
       "<div>\n",
       "<style scoped>\n",
       "    .dataframe tbody tr th:only-of-type {\n",
       "        vertical-align: middle;\n",
       "    }\n",
       "\n",
       "    .dataframe tbody tr th {\n",
       "        vertical-align: top;\n",
       "    }\n",
       "\n",
       "    .dataframe thead th {\n",
       "        text-align: right;\n",
       "    }\n",
       "</style>\n",
       "<table border=\"1\" class=\"dataframe\">\n",
       "  <thead>\n",
       "    <tr style=\"text-align: right;\">\n",
       "      <th></th>\n",
       "      <th>Retailer</th>\n",
       "      <th>Retailer ID</th>\n",
       "      <th>Invoice Date</th>\n",
       "      <th>Region</th>\n",
       "      <th>State</th>\n",
       "      <th>City</th>\n",
       "      <th>Product</th>\n",
       "      <th>Price per Unit</th>\n",
       "      <th>Units Sold</th>\n",
       "      <th>Total Sales</th>\n",
       "      <th>Operating Profit</th>\n",
       "      <th>Sales Method</th>\n",
       "    </tr>\n",
       "  </thead>\n",
       "  <tbody>\n",
       "    <tr>\n",
       "      <th>0</th>\n",
       "      <td>Foot Locker</td>\n",
       "      <td>1185732</td>\n",
       "      <td>1/1/2020</td>\n",
       "      <td>Northeast</td>\n",
       "      <td>New York</td>\n",
       "      <td>New York</td>\n",
       "      <td>Men's Street Footwear</td>\n",
       "      <td>$50.00</td>\n",
       "      <td>1,200</td>\n",
       "      <td>60,000</td>\n",
       "      <td>$30,000</td>\n",
       "      <td>In-store</td>\n",
       "    </tr>\n",
       "    <tr>\n",
       "      <th>1</th>\n",
       "      <td>Foot Locker</td>\n",
       "      <td>1185732</td>\n",
       "      <td>1/2/2020</td>\n",
       "      <td>Northeast</td>\n",
       "      <td>New York</td>\n",
       "      <td>New York</td>\n",
       "      <td>Men's Athletic Footwear</td>\n",
       "      <td>$50.00</td>\n",
       "      <td>1,000</td>\n",
       "      <td>50,000</td>\n",
       "      <td>$15,000</td>\n",
       "      <td>In-store</td>\n",
       "    </tr>\n",
       "    <tr>\n",
       "      <th>2</th>\n",
       "      <td>Foot Locker</td>\n",
       "      <td>1185732</td>\n",
       "      <td>1/3/2020</td>\n",
       "      <td>Northeast</td>\n",
       "      <td>New York</td>\n",
       "      <td>New York</td>\n",
       "      <td>Women's Street Footwear</td>\n",
       "      <td>$40.00</td>\n",
       "      <td>1,000</td>\n",
       "      <td>40,000</td>\n",
       "      <td>$14,000</td>\n",
       "      <td>In-store</td>\n",
       "    </tr>\n",
       "    <tr>\n",
       "      <th>3</th>\n",
       "      <td>Foot Locker</td>\n",
       "      <td>1185732</td>\n",
       "      <td>1/4/2020</td>\n",
       "      <td>Northeast</td>\n",
       "      <td>New York</td>\n",
       "      <td>New York</td>\n",
       "      <td>Women's Athletic Footwear</td>\n",
       "      <td>$45.00</td>\n",
       "      <td>850</td>\n",
       "      <td>38,250</td>\n",
       "      <td>$13,388</td>\n",
       "      <td>In-store</td>\n",
       "    </tr>\n",
       "    <tr>\n",
       "      <th>4</th>\n",
       "      <td>Foot Locker</td>\n",
       "      <td>1185732</td>\n",
       "      <td>1/5/2020</td>\n",
       "      <td>Northeast</td>\n",
       "      <td>New York</td>\n",
       "      <td>New York</td>\n",
       "      <td>Men's Apparel</td>\n",
       "      <td>$60.00</td>\n",
       "      <td>900</td>\n",
       "      <td>54,000</td>\n",
       "      <td>$16,200</td>\n",
       "      <td>In-store</td>\n",
       "    </tr>\n",
       "  </tbody>\n",
       "</table>\n",
       "</div>"
      ],
      "text/plain": [
       "      Retailer  Retailer ID Invoice Date     Region     State      City  \\\n",
       "0  Foot Locker      1185732     1/1/2020  Northeast  New York  New York   \n",
       "1  Foot Locker      1185732     1/2/2020  Northeast  New York  New York   \n",
       "2  Foot Locker      1185732     1/3/2020  Northeast  New York  New York   \n",
       "3  Foot Locker      1185732     1/4/2020  Northeast  New York  New York   \n",
       "4  Foot Locker      1185732     1/5/2020  Northeast  New York  New York   \n",
       "\n",
       "                     Product Price per Unit Units Sold Total Sales  \\\n",
       "0      Men's Street Footwear        $50.00       1,200      60,000   \n",
       "1    Men's Athletic Footwear        $50.00       1,000      50,000   \n",
       "2    Women's Street Footwear        $40.00       1,000      40,000   \n",
       "3  Women's Athletic Footwear        $45.00         850      38,250   \n",
       "4              Men's Apparel        $60.00         900      54,000   \n",
       "\n",
       "  Operating Profit Sales Method  \n",
       "0         $30,000      In-store  \n",
       "1         $15,000      In-store  \n",
       "2         $14,000      In-store  \n",
       "3         $13,388      In-store  \n",
       "4         $16,200      In-store  "
      ]
     },
     "execution_count": 34,
     "metadata": {},
     "output_type": "execute_result"
    }
   ],
   "source": [
    "data.head(5)"
   ]
  },
  {
   "cell_type": "code",
   "execution_count": 35,
   "id": "f0949c0d",
   "metadata": {},
   "outputs": [
    {
     "data": {
      "text/html": [
       "<div>\n",
       "<style scoped>\n",
       "    .dataframe tbody tr th:only-of-type {\n",
       "        vertical-align: middle;\n",
       "    }\n",
       "\n",
       "    .dataframe tbody tr th {\n",
       "        vertical-align: top;\n",
       "    }\n",
       "\n",
       "    .dataframe thead th {\n",
       "        text-align: right;\n",
       "    }\n",
       "</style>\n",
       "<table border=\"1\" class=\"dataframe\">\n",
       "  <thead>\n",
       "    <tr style=\"text-align: right;\">\n",
       "      <th></th>\n",
       "      <th>Retailer ID</th>\n",
       "    </tr>\n",
       "  </thead>\n",
       "  <tbody>\n",
       "    <tr>\n",
       "      <th>count</th>\n",
       "      <td>9.648000e+03</td>\n",
       "    </tr>\n",
       "    <tr>\n",
       "      <th>mean</th>\n",
       "      <td>1.173850e+06</td>\n",
       "    </tr>\n",
       "    <tr>\n",
       "      <th>std</th>\n",
       "      <td>2.636038e+04</td>\n",
       "    </tr>\n",
       "    <tr>\n",
       "      <th>min</th>\n",
       "      <td>1.128299e+06</td>\n",
       "    </tr>\n",
       "    <tr>\n",
       "      <th>25%</th>\n",
       "      <td>1.185732e+06</td>\n",
       "    </tr>\n",
       "    <tr>\n",
       "      <th>50%</th>\n",
       "      <td>1.185732e+06</td>\n",
       "    </tr>\n",
       "    <tr>\n",
       "      <th>75%</th>\n",
       "      <td>1.185732e+06</td>\n",
       "    </tr>\n",
       "    <tr>\n",
       "      <th>max</th>\n",
       "      <td>1.197831e+06</td>\n",
       "    </tr>\n",
       "  </tbody>\n",
       "</table>\n",
       "</div>"
      ],
      "text/plain": [
       "        Retailer ID\n",
       "count  9.648000e+03\n",
       "mean   1.173850e+06\n",
       "std    2.636038e+04\n",
       "min    1.128299e+06\n",
       "25%    1.185732e+06\n",
       "50%    1.185732e+06\n",
       "75%    1.185732e+06\n",
       "max    1.197831e+06"
      ]
     },
     "execution_count": 35,
     "metadata": {},
     "output_type": "execute_result"
    }
   ],
   "source": [
    "data.describe()"
   ]
  },
  {
   "cell_type": "code",
   "execution_count": 36,
   "id": "b3f77845",
   "metadata": {},
   "outputs": [
    {
     "name": "stdout",
     "output_type": "stream",
     "text": [
      "<class 'pandas.core.frame.DataFrame'>\n",
      "RangeIndex: 9648 entries, 0 to 9647\n",
      "Data columns (total 12 columns):\n",
      " #   Column            Non-Null Count  Dtype \n",
      "---  ------            --------------  ----- \n",
      " 0   Retailer          9648 non-null   object\n",
      " 1   Retailer ID       9648 non-null   int64 \n",
      " 2   Invoice Date      9648 non-null   object\n",
      " 3   Region            9641 non-null   object\n",
      " 4   State             9648 non-null   object\n",
      " 5   City              9648 non-null   object\n",
      " 6   Product           9648 non-null   object\n",
      " 7   Price per Unit    9646 non-null   object\n",
      " 8   Units Sold        9648 non-null   object\n",
      " 9   Total Sales       9648 non-null   object\n",
      " 10  Operating Profit  9648 non-null   object\n",
      " 11  Sales Method      9648 non-null   object\n",
      "dtypes: int64(1), object(11)\n",
      "memory usage: 904.6+ KB\n"
     ]
    }
   ],
   "source": [
    "data.info()"
   ]
  },
  {
   "cell_type": "code",
   "execution_count": 37,
   "id": "9ea0ed59",
   "metadata": {},
   "outputs": [
    {
     "data": {
      "text/plain": [
       "(9648, 12)"
      ]
     },
     "execution_count": 37,
     "metadata": {},
     "output_type": "execute_result"
    }
   ],
   "source": [
    "data.shape"
   ]
  },
  {
   "cell_type": "code",
   "execution_count": 38,
   "id": "4362512d",
   "metadata": {},
   "outputs": [
    {
     "name": "stdout",
     "output_type": "stream",
     "text": [
      "Retailer Retailer\n",
      "Foot Locker      2637\n",
      "West Gear        2374\n",
      "Sports Direct    2032\n",
      "Kohl's           1030\n",
      "Amazon            949\n",
      "Walmart           626\n",
      "Name: count, dtype: int64\n",
      "Retailer ID Retailer ID\n",
      "1185732    5265\n",
      "1128299    2370\n",
      "1197831    1653\n",
      "1189833     360\n",
      "Name: count, dtype: int64\n",
      "Invoice Date Invoice Date\n",
      "1/17/2021     77\n",
      "8/17/2021     72\n",
      "3/16/2021     72\n",
      "4/17/2021     72\n",
      "11/17/2021    71\n",
      "              ..\n",
      "6/14/2020      2\n",
      "6/15/2020      2\n",
      "6/17/2020      2\n",
      "6/18/2020      2\n",
      "6/16/2020      2\n",
      "Name: count, Length: 724, dtype: int64\n",
      "Region Region\n",
      "West         2446\n",
      "Northeast    2376\n",
      "Midwest      1869\n",
      "South        1726\n",
      "Southeast    1224\n",
      "Name: count, dtype: int64\n",
      "State State\n",
      "California        432\n",
      "Texas             432\n",
      "New York          360\n",
      "Florida           360\n",
      "Mississippi       216\n",
      "Oregon            216\n",
      "Louisiana         216\n",
      "Idaho             216\n",
      "New Mexico        216\n",
      "Georgia           216\n",
      "Arkansas          216\n",
      "Virginia          216\n",
      "Oklahoma          216\n",
      "Connecticut       216\n",
      "Rhode Island      216\n",
      "Massachusetts     216\n",
      "Vermont           216\n",
      "Utah              216\n",
      "Arizona           216\n",
      "New Hampshire     216\n",
      "Pennsylvania      216\n",
      "Nevada            216\n",
      "Alabama           216\n",
      "Tennessee         216\n",
      "South Dakota      144\n",
      "Illinois          144\n",
      "Colorado          144\n",
      "New Jersey        144\n",
      "Delaware          144\n",
      "Maryland          144\n",
      "West Virginia     144\n",
      "Indiana           144\n",
      "Wisconsin         144\n",
      "Iowa              144\n",
      "North Dakota      144\n",
      "Michigan          144\n",
      "Kansas            144\n",
      "Missouri          144\n",
      "Minnesota         144\n",
      "Montana           144\n",
      "Kentucky          144\n",
      "Ohio              144\n",
      "North Carolina    144\n",
      "South Carolina    144\n",
      "Nebraska          144\n",
      "Maine             144\n",
      "Alaska            144\n",
      "Hawaii            144\n",
      "Wyoming           144\n",
      "Washington        144\n",
      "Name: count, dtype: int64\n",
      "City City\n",
      "Portland          360\n",
      "Charleston        288\n",
      "Orlando           216\n",
      "Salt Lake City    216\n",
      "Houston           216\n",
      "Boise             216\n",
      "Phoenix           216\n",
      "Albuquerque       216\n",
      "Atlanta           216\n",
      "New York          216\n",
      "Jackson           216\n",
      "Little Rock       216\n",
      "Oklahoma City     216\n",
      "Hartford          216\n",
      "Providence        216\n",
      "Boston            216\n",
      "Burlington        216\n",
      "Richmond          216\n",
      "New Orleans       216\n",
      "Manchester        216\n",
      "Dallas            216\n",
      "Philadelphia      216\n",
      "Knoxville         216\n",
      "Birmingham        216\n",
      "Las Vegas         216\n",
      "Los Angeles       216\n",
      "San Francisco     216\n",
      "Chicago           144\n",
      "Newark            144\n",
      "Baltimore         144\n",
      "Indianapolis      144\n",
      "Milwaukee         144\n",
      "Des Moines        144\n",
      "Fargo             144\n",
      "Sioux Falls       144\n",
      "Wichita           144\n",
      "Wilmington        144\n",
      "Honolulu          144\n",
      "Albany            144\n",
      "Louisville        144\n",
      "Columbus          144\n",
      "Charlotte         144\n",
      "Seattle           144\n",
      "Miami             144\n",
      "Minneapolis       144\n",
      "Billings          144\n",
      "Omaha             144\n",
      "St. Louis         144\n",
      "Detroit           144\n",
      "Anchorage         144\n",
      "Cheyenne          144\n",
      "Denver            144\n",
      "Name: count, dtype: int64\n",
      "Product Product\n",
      "Men's Street Footwear        1610\n",
      "Men's Athletic Footwear      1610\n",
      "Women's Street Footwear      1608\n",
      "Women's Apparel              1608\n",
      "Women's Athletic Footwear    1606\n",
      "Men's Apparel                1605\n",
      "Men's aparel                    1\n",
      "Name: count, dtype: int64\n",
      "Price per Unit Price per Unit\n",
      "$50.00      675\n",
      "$55.00      589\n",
      "$45.00      588\n",
      "$40.00      533\n",
      "$60.00      456\n",
      "           ... \n",
      "$97.00        2\n",
      "$88.00        2\n",
      "$101.00       1\n",
      "$98.00        1\n",
      "$8.00         1\n",
      "Name: count, Length: 94, dtype: int64\n",
      "Units Sold Units Sold\n",
      "225    207\n",
      "150    203\n",
      "175    191\n",
      "300    189\n",
      "200    174\n",
      "      ... \n",
      "388      1\n",
      "336      1\n",
      "384      1\n",
      "86       1\n",
      "177      1\n",
      "Name: count, Length: 361, dtype: int64\n",
      "Total Sales Total Sales\n",
      "10,000    67\n",
      "9,000     57\n",
      "18,000    57\n",
      "13,500    56\n",
      "7,875     53\n",
      "          ..\n",
      "1,401      1\n",
      "1,285      1\n",
      "54,625     1\n",
      "1,659      1\n",
      "433        1\n",
      "Name: count, Length: 1710, dtype: int64\n",
      "Operating Profit Operating Profit\n",
      "$10,500     39\n",
      "$6,300      39\n",
      "$2,100      38\n",
      "$4,500      38\n",
      "$3,150      38\n",
      "            ..\n",
      "$10,875      1\n",
      "$6,094       1\n",
      "$6,531       1\n",
      "$6,175       1\n",
      "$8           1\n",
      "Name: count, Length: 1531, dtype: int64\n",
      "Sales Method Sales Method\n",
      "Online      4889\n",
      "Outlet      3019\n",
      "In-store    1740\n",
      "Name: count, dtype: int64\n"
     ]
    }
   ],
   "source": [
    "for i in data.columns:\n",
    "    print(i , data[i].value_counts())"
   ]
  },
  {
   "cell_type": "code",
   "execution_count": 39,
   "id": "0c277558",
   "metadata": {},
   "outputs": [],
   "source": [
    "data['Total Sales']=data['Total Sales'].str.replace(\",\",\"\")\n",
    "data['Total Sales']=data['Total Sales'].astype(\"int\")"
   ]
  },
  {
   "cell_type": "code",
   "execution_count": 40,
   "id": "ccc8ef28",
   "metadata": {},
   "outputs": [],
   "source": [
    "data['Price per Unit']=data['Price per Unit'].str.replace(\"$\",\"\").str.replace(\".\",\"\")\n",
    "data['Price per Unit']=data['Price per Unit'].astype(\"float\")"
   ]
  },
  {
   "cell_type": "code",
   "execution_count": 41,
   "id": "00036cfc",
   "metadata": {},
   "outputs": [],
   "source": [
    "data['Operating Profit']=data['Operating Profit'].str.replace(\"$\",\"\").str.replace(\",\",\"\")\n",
    "data['Operating Profit']=data['Operating Profit'].astype(\"int64\")"
   ]
  },
  {
   "cell_type": "code",
   "execution_count": 42,
   "id": "8b91f4b7",
   "metadata": {},
   "outputs": [],
   "source": [
    "data['Units Sold']=data['Units Sold'].str.replace(\",\",\"\")\n",
    "data['Units Sold']=data['Units Sold'].astype(\"int64\")"
   ]
  },
  {
   "cell_type": "code",
   "execution_count": 43,
   "id": "02db748d",
   "metadata": {},
   "outputs": [],
   "source": [
    "data['Invoice Date']=pd.to_datetime(data['Invoice Date'])"
   ]
  },
  {
   "cell_type": "code",
   "execution_count": 44,
   "id": "e7784a19",
   "metadata": {},
   "outputs": [],
   "source": [
    "data['month'] = data['Invoice Date'].dt.month"
   ]
  },
  {
   "cell_type": "code",
   "execution_count": 45,
   "id": "d9a54eaa",
   "metadata": {},
   "outputs": [],
   "source": [
    "data['year'] = data['Invoice Date'].dt.year"
   ]
  },
  {
   "cell_type": "code",
   "execution_count": 46,
   "id": "fe46f3c7",
   "metadata": {
    "scrolled": true
   },
   "outputs": [
    {
     "data": {
      "text/html": [
       "<div>\n",
       "<style scoped>\n",
       "    .dataframe tbody tr th:only-of-type {\n",
       "        vertical-align: middle;\n",
       "    }\n",
       "\n",
       "    .dataframe tbody tr th {\n",
       "        vertical-align: top;\n",
       "    }\n",
       "\n",
       "    .dataframe thead th {\n",
       "        text-align: right;\n",
       "    }\n",
       "</style>\n",
       "<table border=\"1\" class=\"dataframe\">\n",
       "  <thead>\n",
       "    <tr style=\"text-align: right;\">\n",
       "      <th></th>\n",
       "      <th>count</th>\n",
       "    </tr>\n",
       "    <tr>\n",
       "      <th>year</th>\n",
       "      <th></th>\n",
       "    </tr>\n",
       "  </thead>\n",
       "  <tbody>\n",
       "    <tr>\n",
       "      <th>2021</th>\n",
       "      <td>8346</td>\n",
       "    </tr>\n",
       "    <tr>\n",
       "      <th>2020</th>\n",
       "      <td>1302</td>\n",
       "    </tr>\n",
       "  </tbody>\n",
       "</table>\n",
       "</div>"
      ],
      "text/plain": [
       "      count\n",
       "year       \n",
       "2021   8346\n",
       "2020   1302"
      ]
     },
     "execution_count": 46,
     "metadata": {},
     "output_type": "execute_result"
    }
   ],
   "source": [
    "data['year'].value_counts().to_frame()"
   ]
  },
  {
   "cell_type": "code",
   "execution_count": 47,
   "id": "69313937",
   "metadata": {},
   "outputs": [],
   "source": [
    "data.drop(['Invoice Date','Retailer ID'] , axis=1, inplace=True)"
   ]
  },
  {
   "cell_type": "code",
   "execution_count": 48,
   "id": "c5bc491a",
   "metadata": {},
   "outputs": [
    {
     "data": {
      "text/html": [
       "<div>\n",
       "<style scoped>\n",
       "    .dataframe tbody tr th:only-of-type {\n",
       "        vertical-align: middle;\n",
       "    }\n",
       "\n",
       "    .dataframe tbody tr th {\n",
       "        vertical-align: top;\n",
       "    }\n",
       "\n",
       "    .dataframe thead th {\n",
       "        text-align: right;\n",
       "    }\n",
       "</style>\n",
       "<table border=\"1\" class=\"dataframe\">\n",
       "  <thead>\n",
       "    <tr style=\"text-align: right;\">\n",
       "      <th></th>\n",
       "      <th>Retailer</th>\n",
       "      <th>Region</th>\n",
       "      <th>State</th>\n",
       "      <th>City</th>\n",
       "      <th>Product</th>\n",
       "      <th>Price per Unit</th>\n",
       "      <th>Units Sold</th>\n",
       "      <th>Total Sales</th>\n",
       "      <th>Operating Profit</th>\n",
       "      <th>Sales Method</th>\n",
       "      <th>month</th>\n",
       "      <th>year</th>\n",
       "    </tr>\n",
       "  </thead>\n",
       "  <tbody>\n",
       "    <tr>\n",
       "      <th>0</th>\n",
       "      <td>Foot Locker</td>\n",
       "      <td>Northeast</td>\n",
       "      <td>New York</td>\n",
       "      <td>New York</td>\n",
       "      <td>Men's Street Footwear</td>\n",
       "      <td>5000.0</td>\n",
       "      <td>1200</td>\n",
       "      <td>60000</td>\n",
       "      <td>30000</td>\n",
       "      <td>In-store</td>\n",
       "      <td>1</td>\n",
       "      <td>2020</td>\n",
       "    </tr>\n",
       "    <tr>\n",
       "      <th>1</th>\n",
       "      <td>Foot Locker</td>\n",
       "      <td>Northeast</td>\n",
       "      <td>New York</td>\n",
       "      <td>New York</td>\n",
       "      <td>Men's Athletic Footwear</td>\n",
       "      <td>5000.0</td>\n",
       "      <td>1000</td>\n",
       "      <td>50000</td>\n",
       "      <td>15000</td>\n",
       "      <td>In-store</td>\n",
       "      <td>1</td>\n",
       "      <td>2020</td>\n",
       "    </tr>\n",
       "    <tr>\n",
       "      <th>2</th>\n",
       "      <td>Foot Locker</td>\n",
       "      <td>Northeast</td>\n",
       "      <td>New York</td>\n",
       "      <td>New York</td>\n",
       "      <td>Women's Street Footwear</td>\n",
       "      <td>4000.0</td>\n",
       "      <td>1000</td>\n",
       "      <td>40000</td>\n",
       "      <td>14000</td>\n",
       "      <td>In-store</td>\n",
       "      <td>1</td>\n",
       "      <td>2020</td>\n",
       "    </tr>\n",
       "  </tbody>\n",
       "</table>\n",
       "</div>"
      ],
      "text/plain": [
       "      Retailer     Region     State      City                  Product  \\\n",
       "0  Foot Locker  Northeast  New York  New York    Men's Street Footwear   \n",
       "1  Foot Locker  Northeast  New York  New York  Men's Athletic Footwear   \n",
       "2  Foot Locker  Northeast  New York  New York  Women's Street Footwear   \n",
       "\n",
       "   Price per Unit  Units Sold  Total Sales  Operating Profit Sales Method  \\\n",
       "0          5000.0        1200        60000             30000     In-store   \n",
       "1          5000.0        1000        50000             15000     In-store   \n",
       "2          4000.0        1000        40000             14000     In-store   \n",
       "\n",
       "   month  year  \n",
       "0      1  2020  \n",
       "1      1  2020  \n",
       "2      1  2020  "
      ]
     },
     "execution_count": 48,
     "metadata": {},
     "output_type": "execute_result"
    }
   ],
   "source": [
    "data.head(3)"
   ]
  },
  {
   "cell_type": "code",
   "execution_count": 49,
   "id": "b510537c",
   "metadata": {},
   "outputs": [
    {
     "data": {
      "text/plain": [
       "0    West\n",
       "Name: Region, dtype: object"
      ]
     },
     "execution_count": 49,
     "metadata": {},
     "output_type": "execute_result"
    }
   ],
   "source": [
    "mode = data.Region.mode()\n",
    "mode"
   ]
  },
  {
   "cell_type": "code",
   "execution_count": 50,
   "id": "b7d2b7a2",
   "metadata": {},
   "outputs": [],
   "source": [
    "data.Region = data.Region.fillna(\"West\" )"
   ]
  },
  {
   "cell_type": "code",
   "execution_count": 51,
   "id": "74a820d1",
   "metadata": {},
   "outputs": [],
   "source": [
    "data[ 'Price per Unit']=data[ 'Price per Unit']. fillna(value = data[ 'Price per Unit']. mean ( ))"
   ]
  },
  {
   "cell_type": "code",
   "execution_count": 52,
   "id": "b85782ba",
   "metadata": {},
   "outputs": [
    {
     "name": "stdout",
     "output_type": "stream",
     "text": [
      "<class 'pandas.core.frame.DataFrame'>\n",
      "RangeIndex: 9648 entries, 0 to 9647\n",
      "Data columns (total 12 columns):\n",
      " #   Column            Non-Null Count  Dtype  \n",
      "---  ------            --------------  -----  \n",
      " 0   Retailer          9648 non-null   object \n",
      " 1   Region            9648 non-null   object \n",
      " 2   State             9648 non-null   object \n",
      " 3   City              9648 non-null   object \n",
      " 4   Product           9648 non-null   object \n",
      " 5   Price per Unit    9648 non-null   float64\n",
      " 6   Units Sold        9648 non-null   int64  \n",
      " 7   Total Sales       9648 non-null   int32  \n",
      " 8   Operating Profit  9648 non-null   int64  \n",
      " 9   Sales Method      9648 non-null   object \n",
      " 10  month             9648 non-null   int32  \n",
      " 11  year              9648 non-null   int32  \n",
      "dtypes: float64(1), int32(3), int64(2), object(6)\n",
      "memory usage: 791.6+ KB\n"
     ]
    }
   ],
   "source": [
    "data.info()"
   ]
  },
  {
   "cell_type": "code",
   "execution_count": null,
   "id": "926ff35c",
   "metadata": {},
   "outputs": [],
   "source": []
  },
  {
   "cell_type": "code",
   "execution_count": null,
   "id": "11b3b285",
   "metadata": {},
   "outputs": [],
   "source": []
  },
  {
   "cell_type": "code",
   "execution_count": 53,
   "id": "54e5f716",
   "metadata": {},
   "outputs": [
    {
     "data": {
      "text/html": [
       "<div>\n",
       "<style scoped>\n",
       "    .dataframe tbody tr th:only-of-type {\n",
       "        vertical-align: middle;\n",
       "    }\n",
       "\n",
       "    .dataframe tbody tr th {\n",
       "        vertical-align: top;\n",
       "    }\n",
       "\n",
       "    .dataframe thead th {\n",
       "        text-align: right;\n",
       "    }\n",
       "</style>\n",
       "<table border=\"1\" class=\"dataframe\">\n",
       "  <thead>\n",
       "    <tr style=\"text-align: right;\">\n",
       "      <th></th>\n",
       "      <th>max</th>\n",
       "      <th>min</th>\n",
       "      <th>mean</th>\n",
       "      <th>sum</th>\n",
       "    </tr>\n",
       "    <tr>\n",
       "      <th>Product</th>\n",
       "      <th></th>\n",
       "      <th></th>\n",
       "      <th></th>\n",
       "      <th></th>\n",
       "    </tr>\n",
       "  </thead>\n",
       "  <tbody>\n",
       "    <tr>\n",
       "      <th>Men's Apparel</th>\n",
       "      <td>61750</td>\n",
       "      <td>25</td>\n",
       "      <td>7675.330218</td>\n",
       "      <td>12318905</td>\n",
       "    </tr>\n",
       "    <tr>\n",
       "      <th>Men's Athletic Footwear</th>\n",
       "      <td>71250</td>\n",
       "      <td>74</td>\n",
       "      <td>9544.975155</td>\n",
       "      <td>15367410</td>\n",
       "    </tr>\n",
       "    <tr>\n",
       "      <th>Men's Street Footwear</th>\n",
       "      <td>81000</td>\n",
       "      <td>157</td>\n",
       "      <td>12970.601863</td>\n",
       "      <td>20882669</td>\n",
       "    </tr>\n",
       "    <tr>\n",
       "      <th>Men's aparel</th>\n",
       "      <td>54000</td>\n",
       "      <td>54000</td>\n",
       "      <td>54000.000000</td>\n",
       "      <td>54000</td>\n",
       "    </tr>\n",
       "    <tr>\n",
       "      <th>Women's Apparel</th>\n",
       "      <td>82500</td>\n",
       "      <td>91</td>\n",
       "      <td>11134.272388</td>\n",
       "      <td>17903910</td>\n",
       "    </tr>\n",
       "    <tr>\n",
       "      <th>Women's Athletic Footwear</th>\n",
       "      <td>54000</td>\n",
       "      <td>0</td>\n",
       "      <td>6639.623288</td>\n",
       "      <td>10663235</td>\n",
       "    </tr>\n",
       "    <tr>\n",
       "      <th>Women's Street Footwear</th>\n",
       "      <td>66500</td>\n",
       "      <td>37</td>\n",
       "      <td>7960.393657</td>\n",
       "      <td>12800313</td>\n",
       "    </tr>\n",
       "  </tbody>\n",
       "</table>\n",
       "</div>"
      ],
      "text/plain": [
       "                             max    min          mean       sum\n",
       "Product                                                        \n",
       "Men's Apparel              61750     25   7675.330218  12318905\n",
       "Men's Athletic Footwear    71250     74   9544.975155  15367410\n",
       "Men's Street Footwear      81000    157  12970.601863  20882669\n",
       "Men's aparel               54000  54000  54000.000000     54000\n",
       "Women's Apparel            82500     91  11134.272388  17903910\n",
       "Women's Athletic Footwear  54000      0   6639.623288  10663235\n",
       "Women's Street Footwear    66500     37   7960.393657  12800313"
      ]
     },
     "execution_count": 53,
     "metadata": {},
     "output_type": "execute_result"
    }
   ],
   "source": [
    "max_sales = data.groupby('Product')['Total Sales'].agg([\"max\", \"min\" , \"mean\" , \"sum\"])\n",
    "max_sales"
   ]
  },
  {
   "cell_type": "code",
   "execution_count": 54,
   "id": "79a086ac",
   "metadata": {},
   "outputs": [
    {
     "data": {
      "text/html": [
       "<div>\n",
       "<style scoped>\n",
       "    .dataframe tbody tr th:only-of-type {\n",
       "        vertical-align: middle;\n",
       "    }\n",
       "\n",
       "    .dataframe tbody tr th {\n",
       "        vertical-align: top;\n",
       "    }\n",
       "\n",
       "    .dataframe thead th {\n",
       "        text-align: right;\n",
       "    }\n",
       "</style>\n",
       "<table border=\"1\" class=\"dataframe\">\n",
       "  <thead>\n",
       "    <tr style=\"text-align: right;\">\n",
       "      <th></th>\n",
       "      <th>max</th>\n",
       "      <th>min</th>\n",
       "      <th>mean</th>\n",
       "      <th>sum</th>\n",
       "    </tr>\n",
       "    <tr>\n",
       "      <th>Region</th>\n",
       "      <th></th>\n",
       "      <th></th>\n",
       "      <th></th>\n",
       "      <th></th>\n",
       "    </tr>\n",
       "  </thead>\n",
       "  <tbody>\n",
       "    <tr>\n",
       "      <th>Midwest</th>\n",
       "      <td>8000.0</td>\n",
       "      <td>900.0</td>\n",
       "      <td>4035.741038</td>\n",
       "      <td>7.542800e+06</td>\n",
       "    </tr>\n",
       "    <tr>\n",
       "      <th>Northeast</th>\n",
       "      <td>8000.0</td>\n",
       "      <td>1600.0</td>\n",
       "      <td>4668.527594</td>\n",
       "      <td>1.109242e+07</td>\n",
       "    </tr>\n",
       "    <tr>\n",
       "      <th>South</th>\n",
       "      <td>11000.0</td>\n",
       "      <td>700.0</td>\n",
       "      <td>3824.056526</td>\n",
       "      <td>6.600322e+06</td>\n",
       "    </tr>\n",
       "    <tr>\n",
       "      <th>Southeast</th>\n",
       "      <td>11000.0</td>\n",
       "      <td>1700.0</td>\n",
       "      <td>5018.300654</td>\n",
       "      <td>6.142400e+06</td>\n",
       "    </tr>\n",
       "    <tr>\n",
       "      <th>West</th>\n",
       "      <td>10500.0</td>\n",
       "      <td>700.0</td>\n",
       "      <td>4992.295149</td>\n",
       "      <td>1.224610e+07</td>\n",
       "    </tr>\n",
       "  </tbody>\n",
       "</table>\n",
       "</div>"
      ],
      "text/plain": [
       "               max     min         mean           sum\n",
       "Region                                               \n",
       "Midwest     8000.0   900.0  4035.741038  7.542800e+06\n",
       "Northeast   8000.0  1600.0  4668.527594  1.109242e+07\n",
       "South      11000.0   700.0  3824.056526  6.600322e+06\n",
       "Southeast  11000.0  1700.0  5018.300654  6.142400e+06\n",
       "West       10500.0   700.0  4992.295149  1.224610e+07"
      ]
     },
     "execution_count": 54,
     "metadata": {},
     "output_type": "execute_result"
    }
   ],
   "source": [
    "data.groupby('Region')['Price per Unit'].agg([\"max\", \"min\" , \"mean\" , \"sum\"])"
   ]
  },
  {
   "cell_type": "code",
   "execution_count": 55,
   "id": "461d3696",
   "metadata": {},
   "outputs": [
    {
     "data": {
      "text/html": [
       "<div>\n",
       "<style scoped>\n",
       "    .dataframe tbody tr th:only-of-type {\n",
       "        vertical-align: middle;\n",
       "    }\n",
       "\n",
       "    .dataframe tbody tr th {\n",
       "        vertical-align: top;\n",
       "    }\n",
       "\n",
       "    .dataframe thead th {\n",
       "        text-align: right;\n",
       "    }\n",
       "</style>\n",
       "<table border=\"1\" class=\"dataframe\">\n",
       "  <thead>\n",
       "    <tr style=\"text-align: right;\">\n",
       "      <th></th>\n",
       "      <th>count</th>\n",
       "    </tr>\n",
       "    <tr>\n",
       "      <th>Sales Method</th>\n",
       "      <th></th>\n",
       "    </tr>\n",
       "  </thead>\n",
       "  <tbody>\n",
       "    <tr>\n",
       "      <th>Online</th>\n",
       "      <td>4889</td>\n",
       "    </tr>\n",
       "    <tr>\n",
       "      <th>Outlet</th>\n",
       "      <td>3019</td>\n",
       "    </tr>\n",
       "    <tr>\n",
       "      <th>In-store</th>\n",
       "      <td>1740</td>\n",
       "    </tr>\n",
       "  </tbody>\n",
       "</table>\n",
       "</div>"
      ],
      "text/plain": [
       "              count\n",
       "Sales Method       \n",
       "Online         4889\n",
       "Outlet         3019\n",
       "In-store       1740"
      ]
     },
     "execution_count": 55,
     "metadata": {},
     "output_type": "execute_result"
    }
   ],
   "source": [
    "data['Sales Method'].value_counts().to_frame()"
   ]
  },
  {
   "cell_type": "code",
   "execution_count": 56,
   "id": "a720f6cc",
   "metadata": {},
   "outputs": [
    {
     "data": {
      "text/plain": [
       "<Axes: xlabel='Sales Method', ylabel='count'>"
      ]
     },
     "execution_count": 56,
     "metadata": {},
     "output_type": "execute_result"
    },
    {
     "data": {
      "image/png": "[encoded data removed]",
      "text/plain": [
       "<Figure size 640x480 with 1 Axes>"
      ]
     },
     "metadata": {},
     "output_type": "display_data"
    }
   ],
   "source": [
    "sns.countplot(data=data , x='Sales Method')"
   ]
  },
  {
   "cell_type": "code",
   "execution_count": 57,
   "id": "e7a256d6",
   "metadata": {},
   "outputs": [
    {
     "data": {
      "text/plain": [
       "<Axes: xlabel='Region', ylabel='count'>"
      ]
     },
     "execution_count": 57,
     "metadata": {},
     "output_type": "execute_result"
    },
    {
     "data": {
      "image/png": "[encoded data removed]",
      "text/plain": [
       "<Figure size 640x480 with 1 Axes>"
      ]
     },
     "metadata": {},
     "output_type": "display_data"
    }
   ],
   "source": [
    "sns.countplot(data=data , x='Region')"
   ]
  },
  {
   "cell_type": "code",
   "execution_count": 58,
   "id": "0675c256",
   "metadata": {},
   "outputs": [
    {
     "data": {
      "text/html": [
       "<div>\n",
       "<style scoped>\n",
       "    .dataframe tbody tr th:only-of-type {\n",
       "        vertical-align: middle;\n",
       "    }\n",
       "\n",
       "    .dataframe tbody tr th {\n",
       "        vertical-align: top;\n",
       "    }\n",
       "\n",
       "    .dataframe thead th {\n",
       "        text-align: right;\n",
       "    }\n",
       "</style>\n",
       "<table border=\"1\" class=\"dataframe\">\n",
       "  <thead>\n",
       "    <tr style=\"text-align: right;\">\n",
       "      <th></th>\n",
       "      <th>Total Sales</th>\n",
       "    </tr>\n",
       "    <tr>\n",
       "      <th>Product</th>\n",
       "      <th></th>\n",
       "    </tr>\n",
       "  </thead>\n",
       "  <tbody>\n",
       "    <tr>\n",
       "      <th>Men's Apparel</th>\n",
       "      <td>12318905</td>\n",
       "    </tr>\n",
       "    <tr>\n",
       "      <th>Men's Athletic Footwear</th>\n",
       "      <td>15367410</td>\n",
       "    </tr>\n",
       "    <tr>\n",
       "      <th>Men's Street Footwear</th>\n",
       "      <td>20882669</td>\n",
       "    </tr>\n",
       "    <tr>\n",
       "      <th>Men's aparel</th>\n",
       "      <td>54000</td>\n",
       "    </tr>\n",
       "    <tr>\n",
       "      <th>Women's Apparel</th>\n",
       "      <td>17903910</td>\n",
       "    </tr>\n",
       "    <tr>\n",
       "      <th>Women's Athletic Footwear</th>\n",
       "      <td>10663235</td>\n",
       "    </tr>\n",
       "    <tr>\n",
       "      <th>Women's Street Footwear</th>\n",
       "      <td>12800313</td>\n",
       "    </tr>\n",
       "  </tbody>\n",
       "</table>\n",
       "</div>"
      ],
      "text/plain": [
       "                           Total Sales\n",
       "Product                               \n",
       "Men's Apparel                 12318905\n",
       "Men's Athletic Footwear       15367410\n",
       "Men's Street Footwear         20882669\n",
       "Men's aparel                     54000\n",
       "Women's Apparel               17903910\n",
       "Women's Athletic Footwear     10663235\n",
       "Women's Street Footwear       12800313"
      ]
     },
     "execution_count": 58,
     "metadata": {},
     "output_type": "execute_result"
    }
   ],
   "source": [
    "total_sales_per_category = data.groupby('Product')['Total Sales'].sum().to_frame()\n",
    "total_sales_per_category\n"
   ]
  },
  {
   "cell_type": "code",
   "execution_count": 59,
   "id": "d9cecda7",
   "metadata": {},
   "outputs": [
    {
     "data": {
      "image/png": "[encoded data removed]",
      "text/plain": [
       "<Figure size 640x480 with 1 Axes>"
      ]
     },
     "metadata": {},
     "output_type": "display_data"
    }
   ],
   "source": [
    "total_sales_per_category.plot(kind='bar')\n",
    "plt.title('Total Sales per Category')\n",
    "plt.xlabel('Product')\n",
    "plt.ylabel('Total Sales')\n",
    "plt.xticks(rotation=45)\n",
    "plt.show()"
   ]
  },
  {
   "cell_type": "markdown",
   "id": "ef9022c5",
   "metadata": {},
   "source": [
    "## End"
   ]
  }
 ],
 "metadata": {
  "kernelspec": {
   "display_name": "Python 3 (ipykernel)",
   "language": "python",
   "name": "python3"
  },
  "language_info": {
   "codemirror_mode": {
    "name": "ipython",
    "version": 3
   },
   "file_extension": ".py",
   "mimetype": "text/x-python",
   "name": "python",
   "nbconvert_exporter": "python",
   "pygments_lexer": "ipython3",
   "version": "3.11.5"
  }
 },
 "nbformat": 4,
 "nbformat_minor": 5
}
